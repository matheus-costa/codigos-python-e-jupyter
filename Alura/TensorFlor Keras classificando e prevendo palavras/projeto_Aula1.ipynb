{
 "cells": [
  {
   "cell_type": "markdown",
   "metadata": {
    "id": "OVnUO4rGcXRA"
   },
   "source": [
    "# Aula 1"
   ]
  },
  {
   "cell_type": "markdown",
   "metadata": {
    "id": "sw78DOvhcZjY"
   },
   "source": [
    "## Vídeo 1.2 - Carregando textos"
   ]
  },
  {
   "cell_type": "code",
   "execution_count": 1,
   "metadata": {
    "id": "8xSJirUwcrmU"
   },
   "outputs": [],
   "source": [
    "import pandas as pd"
   ]
  },
  {
   "cell_type": "code",
   "execution_count": 2,
   "metadata": {
    "id": "6Q_gvVPQlqm2"
   },
   "outputs": [],
   "source": [
    "url ='https://github.com/allanspadini/curso-tensorflow-proxima-palavra/raw/main/dados/train.zip'"
   ]
  },
  {
   "cell_type": "code",
   "execution_count": 3,
   "metadata": {
    "colab": {
     "base_uri": "https://localhost:8080/",
     "height": 206
    },
    "id": "OR7NxDUEnLr2",
    "outputId": "d86035ba-403e-4d9f-cbd9-98258ecf5530"
   },
   "outputs": [
    {
     "data": {
      "text/html": [
       "<div>\n",
       "<style scoped>\n",
       "    .dataframe tbody tr th:only-of-type {\n",
       "        vertical-align: middle;\n",
       "    }\n",
       "\n",
       "    .dataframe tbody tr th {\n",
       "        vertical-align: top;\n",
       "    }\n",
       "\n",
       "    .dataframe thead th {\n",
       "        text-align: right;\n",
       "    }\n",
       "</style>\n",
       "<table border=\"1\" class=\"dataframe\">\n",
       "  <thead>\n",
       "    <tr style=\"text-align: right;\">\n",
       "      <th></th>\n",
       "      <th>ClassIndex</th>\n",
       "      <th>Título</th>\n",
       "      <th>Descrição</th>\n",
       "    </tr>\n",
       "  </thead>\n",
       "  <tbody>\n",
       "    <tr>\n",
       "      <th>0</th>\n",
       "      <td>3</td>\n",
       "      <td>Wall St. Bears Claw Back Into the Black (Reuters)</td>\n",
       "      <td>Reuters - Short-sellers, Wall Street's dwindli...</td>\n",
       "    </tr>\n",
       "    <tr>\n",
       "      <th>1</th>\n",
       "      <td>3</td>\n",
       "      <td>Carlyle Looks Toward Commercial Aerospace (Reu...</td>\n",
       "      <td>Reuters - Private investment firm Carlyle Grou...</td>\n",
       "    </tr>\n",
       "    <tr>\n",
       "      <th>2</th>\n",
       "      <td>3</td>\n",
       "      <td>Oil and Economy Cloud Stocks' Outlook (Reuters)</td>\n",
       "      <td>Reuters - Soaring crude prices plus worries\\ab...</td>\n",
       "    </tr>\n",
       "    <tr>\n",
       "      <th>3</th>\n",
       "      <td>3</td>\n",
       "      <td>Iraq Halts Oil Exports from Main Southern Pipe...</td>\n",
       "      <td>Reuters - Authorities have halted oil export\\f...</td>\n",
       "    </tr>\n",
       "    <tr>\n",
       "      <th>4</th>\n",
       "      <td>3</td>\n",
       "      <td>Oil prices soar to all-time record, posing new...</td>\n",
       "      <td>AFP - Tearaway world oil prices, toppling reco...</td>\n",
       "    </tr>\n",
       "  </tbody>\n",
       "</table>\n",
       "</div>"
      ],
      "text/plain": [
       "   ClassIndex                                             Título  \\\n",
       "0           3  Wall St. Bears Claw Back Into the Black (Reuters)   \n",
       "1           3  Carlyle Looks Toward Commercial Aerospace (Reu...   \n",
       "2           3    Oil and Economy Cloud Stocks' Outlook (Reuters)   \n",
       "3           3  Iraq Halts Oil Exports from Main Southern Pipe...   \n",
       "4           3  Oil prices soar to all-time record, posing new...   \n",
       "\n",
       "                                           Descrição  \n",
       "0  Reuters - Short-sellers, Wall Street's dwindli...  \n",
       "1  Reuters - Private investment firm Carlyle Grou...  \n",
       "2  Reuters - Soaring crude prices plus worries\\ab...  \n",
       "3  Reuters - Authorities have halted oil export\\f...  \n",
       "4  AFP - Tearaway world oil prices, toppling reco...  "
      ]
     },
     "execution_count": 3,
     "metadata": {},
     "output_type": "execute_result"
    }
   ],
   "source": [
    "df = pd.read_csv(url, header=None, names=['ClassIndex','Título','Descrição'])\n",
    "df.head()"
   ]
  },
  {
   "cell_type": "markdown",
   "metadata": {
    "id": "CTM8ELRHrHfJ"
   },
   "source": [
    "https://github.com/allanspadini/curso-tensorflow-proxima-palavra/blob/main/dados/classes.txt"
   ]
  },
  {
   "cell_type": "code",
   "execution_count": 4,
   "metadata": {
    "id": "qIg-uKp5nPP2"
   },
   "outputs": [],
   "source": [
    "df['Texto'] = df['Título'] + ' ' + df['Descrição']"
   ]
  },
  {
   "cell_type": "code",
   "execution_count": 5,
   "metadata": {
    "colab": {
     "base_uri": "https://localhost:8080/"
    },
    "id": "oFqDKRWWn_T9",
    "outputId": "a4f5c969-c618-4772-ee9d-5c4a5f5c1750"
   },
   "outputs": [
    {
     "data": {
      "text/plain": [
       "0         Wall St. Bears Claw Back Into the Black (Reute...\n",
       "1         Carlyle Looks Toward Commercial Aerospace (Reu...\n",
       "2         Oil and Economy Cloud Stocks' Outlook (Reuters...\n",
       "3         Iraq Halts Oil Exports from Main Southern Pipe...\n",
       "4         Oil prices soar to all-time record, posing new...\n",
       "                                ...                        \n",
       "119995    Pakistan's Musharraf Says Won't Quit as Army C...\n",
       "119996    Renteria signing a top-shelf deal Red Sox gene...\n",
       "119997    Saban not going to Dolphins yet The Miami Dolp...\n",
       "119998    Today's NFL games PITTSBURGH at NY GIANTS Time...\n",
       "119999    Nets get Carter from Raptors INDIANAPOLIS -- A...\n",
       "Name: Texto, Length: 120000, dtype: object"
      ]
     },
     "execution_count": 5,
     "metadata": {},
     "output_type": "execute_result"
    }
   ],
   "source": [
    "df['Texto']"
   ]
  },
  {
   "cell_type": "code",
   "execution_count": 6,
   "metadata": {
    "id": "zLfnLkWQgy5q"
   },
   "outputs": [],
   "source": [
    "df['ClassIndex'] = df['ClassIndex'] - 1"
   ]
  },
  {
   "cell_type": "code",
   "execution_count": 7,
   "metadata": {
    "id": "xi-NmM1Qez0Y"
   },
   "outputs": [],
   "source": [
    "from sklearn.model_selection import train_test_split"
   ]
  },
  {
   "cell_type": "code",
   "execution_count": 8,
   "metadata": {
    "id": "Q5vz4RaMwdw-"
   },
   "outputs": [],
   "source": [
    "X_treino, X_teste, y_treino,y_teste = train_test_split(df['Texto'].values, df['ClassIndex'].values, test_size=0.2, random_state=4266)"
   ]
  },
  {
   "cell_type": "markdown",
   "metadata": {
    "id": "htayfeB9rYM3"
   },
   "source": [
    "## Vídeo 1.3 - Codificando o texto"
   ]
  },
  {
   "cell_type": "code",
   "execution_count": 9,
   "metadata": {
    "id": "O73WAjn7rK-k"
   },
   "outputs": [
    {
     "name": "stderr",
     "output_type": "stream",
     "text": [
      "2024-06-19 16:50:01.352268: I tensorflow/core/platform/cpu_feature_guard.cc:210] This TensorFlow binary is optimized to use available CPU instructions in performance-critical operations.\n",
      "To enable the following instructions: AVX2 FMA, in other operations, rebuild TensorFlow with the appropriate compiler flags.\n",
      "2024-06-19 16:50:02.066188: W tensorflow/compiler/tf2tensorrt/utils/py_utils.cc:38] TF-TRT Warning: Could not find TensorRT\n"
     ]
    }
   ],
   "source": [
    "import tensorflow as tf"
   ]
  },
  {
   "cell_type": "code",
   "execution_count": 10,
   "metadata": {
    "id": "vznL6g1yodAG"
   },
   "outputs": [
    {
     "name": "stderr",
     "output_type": "stream",
     "text": [
      "2024-06-19 16:50:02.717628: I tensorflow/core/common_runtime/gpu/gpu_device.cc:1928] Created device /job:localhost/replica:0/task:0/device:GPU:0 with 20974 MB memory:  -> device: 0, name: NVIDIA L4, pci bus id: 0000:35:00.0, compute capability: 8.9\n"
     ]
    }
   ],
   "source": [
    "VOCAB_SIZE = 1000\n",
    "encoder = tf.keras.layers.TextVectorization(\n",
    "    max_tokens=VOCAB_SIZE)\n"
   ]
  },
  {
   "cell_type": "code",
   "execution_count": 11,
   "metadata": {
    "id": "ylqxttkysUyt"
   },
   "outputs": [],
   "source": [
    "encoder.adapt(X_treino)"
   ]
  },
  {
   "cell_type": "code",
   "execution_count": 12,
   "metadata": {
    "colab": {
     "base_uri": "https://localhost:8080/"
    },
    "id": "yWGRece3sX1H",
    "outputId": "038200b0-038a-4293-9a29-64971a5bc374"
   },
   "outputs": [
    {
     "data": {
      "text/plain": [
       "['',\n",
       " '39s',\n",
       " 'it',\n",
       " 'was',\n",
       " 'more',\n",
       " 'company',\n",
       " 'than',\n",
       " 'microsoft',\n",
       " 'prices',\n",
       " 'people',\n",
       " 'next',\n",
       " 'sales',\n",
       " 'state',\n",
       " 'most',\n",
       " 'profit',\n",
       " 'lead',\n",
       " 'online',\n",
       " '39t',\n",
       " 'red',\n",
       " 'during',\n",
       " 'say',\n",
       " 'between',\n",
       " 'country',\n",
       " 'mobile',\n",
       " 'quarter',\n",
       " 'being',\n",
       " 'dollar',\n",
       " 'stock',\n",
       " 'sox',\n",
       " 'olympic',\n",
       " 'users',\n",
       " 'price',\n",
       " 'how',\n",
       " 'peace',\n",
       " 'six',\n",
       " 'key',\n",
       " 'i',\n",
       " 'should',\n",
       " 'financial',\n",
       " 'leaders',\n",
       " 'house',\n",
       " 'sun',\n",
       " 'used',\n",
       " 'seven',\n",
       " 'israel',\n",
       " 'future',\n",
       " 'trial',\n",
       " 'half',\n",
       " 'customers',\n",
       " 'defense',\n",
       " 'arafat',\n",
       " 'northern',\n",
       " 'due',\n",
       " 'men',\n",
       " 'hopes',\n",
       " 'using',\n",
       " 'scored',\n",
       " 'university',\n",
       " 'texas',\n",
       " 'mark',\n",
       " 'we',\n",
       " 'accused',\n",
       " 'profits',\n",
       " '18',\n",
       " 'possible',\n",
       " 'call',\n",
       " 'rally',\n",
       " 'teams',\n",
       " 'division',\n",
       " '7',\n",
       " 'takeover',\n",
       " 'production',\n",
       " 'outlook',\n",
       " 'began',\n",
       " 'helped',\n",
       " 'opening',\n",
       " 'sept',\n",
       " 'spain',\n",
       " 'hours',\n",
       " 'starting',\n",
       " 'nine',\n",
       " 'pressure',\n",
       " 'executives',\n",
       " 'personal',\n",
       " 'once',\n",
       " 'italian',\n",
       " 'push',\n",
       " 'continued',\n",
       " 'rising',\n",
       " 'kill',\n",
       " 'powerful',\n",
       " 'side',\n",
       " 'designed',\n",
       " 'groups',\n",
       " 'mission',\n",
       " 'najaf',\n",
       " 'fired',\n",
       " 'sold',\n",
       " 'launches',\n",
       " 'guard']"
      ]
     },
     "execution_count": 12,
     "metadata": {},
     "output_type": "execute_result"
    }
   ],
   "source": [
    "encoder.get_vocabulary()[::10]"
   ]
  },
  {
   "cell_type": "code",
   "execution_count": 13,
   "metadata": {
    "id": "H-elCmMosv5R"
   },
   "outputs": [],
   "source": [
    "Exemplo = \"Today's NFL games PITTSBURGH at NY GIANTS\""
   ]
  },
  {
   "cell_type": "code",
   "execution_count": 14,
   "metadata": {
    "colab": {
     "base_uri": "https://localhost:8080/"
    },
    "id": "ScTGeYYTtIWB",
    "outputId": "8a6d2019-711f-4eed-fb62-c15b30fc56bc"
   },
   "outputs": [
    {
     "data": {
      "text/plain": [
       "<tf.Tensor: shape=(7,), dtype=int64, numpy=array([  1, 713, 202,   1,  14,   1, 516])>"
      ]
     },
     "execution_count": 14,
     "metadata": {},
     "output_type": "execute_result"
    }
   ],
   "source": [
    "encoder(Exemplo)"
   ]
  },
  {
   "cell_type": "markdown",
   "metadata": {
    "id": "Oj1WAoDmukc5"
   },
   "source": [
    "## Vídeo 1.4 - Criando um modelo"
   ]
  },
  {
   "cell_type": "code",
   "execution_count": 15,
   "metadata": {
    "id": "tnYtHv3_tP-S"
   },
   "outputs": [],
   "source": [
    "modelo = tf.keras.Sequential([\n",
    "    encoder,\n",
    "    tf.keras.layers.Embedding(\n",
    "        input_dim=len(encoder.get_vocabulary()),\n",
    "        output_dim=16,\n",
    "        # Use masking to handle the variable sequence lengths\n",
    "        mask_zero=True),\n",
    "    tf.keras.layers.GlobalAveragePooling1D(),\n",
    "    tf.keras.layers.Dense(16, activation='relu'),\n",
    "    tf.keras.layers.Dense(4, activation='softmax')\n",
    "\n",
    "])"
   ]
  },
  {
   "cell_type": "code",
   "execution_count": 16,
   "metadata": {
    "id": "3Xu0FJk30REc"
   },
   "outputs": [],
   "source": [
    "# Compilar o modelo\n",
    "modelo.compile(optimizer=tf.keras.optimizers.Adam(1e-4), loss='sparse_categorical_crossentropy', metrics=['accuracy'])"
   ]
  },
  {
   "cell_type": "markdown",
   "metadata": {
    "id": "VL9l73_m1Aqj"
   },
   "source": [
    "https://projector.tensorflow.org/"
   ]
  },
  {
   "cell_type": "code",
   "execution_count": 17,
   "metadata": {},
   "outputs": [
    {
     "data": {
      "text/plain": [
       "'Border Patrol Training Moves Near Mexico (AP) AP - Incoming Border Patrol agents will train closer to the U.S.-Mexican border when the federal government relocates their academy to Artesia, N.M., Customs and Border Protection announced Thursday.'"
      ]
     },
     "execution_count": 17,
     "metadata": {},
     "output_type": "execute_result"
    }
   ],
   "source": [
    "X_teste[0]"
   ]
  },
  {
   "cell_type": "code",
   "execution_count": 18,
   "metadata": {},
   "outputs": [
    {
     "data": {
      "text/plain": [
       "0"
      ]
     },
     "execution_count": 18,
     "metadata": {},
     "output_type": "execute_result"
    }
   ],
   "source": [
    "y_teste[0]"
   ]
  },
  {
   "cell_type": "code",
   "execution_count": 19,
   "metadata": {},
   "outputs": [
    {
     "data": {
      "text/plain": [
       "(24000,)"
      ]
     },
     "execution_count": 19,
     "metadata": {},
     "output_type": "execute_result"
    }
   ],
   "source": [
    "X_teste.shape"
   ]
  },
  {
   "cell_type": "code",
   "execution_count": 20,
   "metadata": {},
   "outputs": [
    {
     "name": "stdout",
     "output_type": "stream",
     "text": [
      "\u001b[1m1/1\u001b[0m \u001b[32m━━━━━━━━━━━━━━━━━━━━\u001b[0m\u001b[37m\u001b[0m \u001b[1m0s\u001b[0m 286ms/step\n"
     ]
    },
    {
     "data": {
      "text/plain": [
       "array([[0.24645628, 0.24776942, 0.2520367 , 0.25373763]], dtype=float32)"
      ]
     },
     "execution_count": 20,
     "metadata": {},
     "output_type": "execute_result"
    }
   ],
   "source": [
    "modelo.predict(X_teste[:1])"
   ]
  },
  {
   "cell_type": "code",
   "execution_count": 21,
   "metadata": {},
   "outputs": [
    {
     "name": "stdout",
     "output_type": "stream",
     "text": [
      "\u001b[1m1/1\u001b[0m \u001b[32m━━━━━━━━━━━━━━━━━━━━\u001b[0m\u001b[37m\u001b[0m \u001b[1m0s\u001b[0m 12ms/step\n"
     ]
    },
    {
     "data": {
      "text/plain": [
       "array([3])"
      ]
     },
     "execution_count": 21,
     "metadata": {},
     "output_type": "execute_result"
    }
   ],
   "source": [
    "modelo.predict(X_teste[:1]).argmax(axis=1)"
   ]
  }
 ],
 "metadata": {
  "accelerator": "GPU",
  "colab": {
   "gpuType": "T4",
   "provenance": []
  },
  "kernelspec": {
   "display_name": "Python 3",
   "language": "python",
   "name": "python3"
  },
  "language_info": {
   "codemirror_mode": {
    "name": "ipython",
    "version": 3
   },
   "file_extension": ".py",
   "mimetype": "text/x-python",
   "name": "python",
   "nbconvert_exporter": "python",
   "pygments_lexer": "ipython3",
   "version": "3.10.10"
  }
 },
 "nbformat": 4,
 "nbformat_minor": 4
}
