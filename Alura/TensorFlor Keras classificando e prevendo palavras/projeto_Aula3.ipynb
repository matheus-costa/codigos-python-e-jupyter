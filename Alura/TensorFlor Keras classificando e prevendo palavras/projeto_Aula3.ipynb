{
 "cells": [
  {
   "cell_type": "markdown",
   "metadata": {
    "id": "OVnUO4rGcXRA"
   },
   "source": [
    "# Aula 1"
   ]
  },
  {
   "cell_type": "markdown",
   "metadata": {
    "id": "sw78DOvhcZjY"
   },
   "source": [
    "## Vídeo 1.2 - Carregando textos"
   ]
  },
  {
   "cell_type": "code",
   "execution_count": 1,
   "metadata": {
    "id": "8xSJirUwcrmU"
   },
   "outputs": [],
   "source": [
    "import pandas as pd"
   ]
  },
  {
   "cell_type": "code",
   "execution_count": 2,
   "metadata": {
    "id": "6Q_gvVPQlqm2"
   },
   "outputs": [],
   "source": [
    "url ='https://github.com/allanspadini/curso-tensorflow-proxima-palavra/raw/main/dados/train.zip'"
   ]
  },
  {
   "cell_type": "code",
   "execution_count": 3,
   "metadata": {
    "colab": {
     "base_uri": "https://localhost:8080/",
     "height": 206
    },
    "id": "OR7NxDUEnLr2",
    "outputId": "d86035ba-403e-4d9f-cbd9-98258ecf5530"
   },
   "outputs": [
    {
     "data": {
      "text/html": [
       "<div>\n",
       "<style scoped>\n",
       "    .dataframe tbody tr th:only-of-type {\n",
       "        vertical-align: middle;\n",
       "    }\n",
       "\n",
       "    .dataframe tbody tr th {\n",
       "        vertical-align: top;\n",
       "    }\n",
       "\n",
       "    .dataframe thead th {\n",
       "        text-align: right;\n",
       "    }\n",
       "</style>\n",
       "<table border=\"1\" class=\"dataframe\">\n",
       "  <thead>\n",
       "    <tr style=\"text-align: right;\">\n",
       "      <th></th>\n",
       "      <th>ClassIndex</th>\n",
       "      <th>Título</th>\n",
       "      <th>Descrição</th>\n",
       "    </tr>\n",
       "  </thead>\n",
       "  <tbody>\n",
       "    <tr>\n",
       "      <th>0</th>\n",
       "      <td>3</td>\n",
       "      <td>Wall St. Bears Claw Back Into the Black (Reuters)</td>\n",
       "      <td>Reuters - Short-sellers, Wall Street's dwindli...</td>\n",
       "    </tr>\n",
       "    <tr>\n",
       "      <th>1</th>\n",
       "      <td>3</td>\n",
       "      <td>Carlyle Looks Toward Commercial Aerospace (Reu...</td>\n",
       "      <td>Reuters - Private investment firm Carlyle Grou...</td>\n",
       "    </tr>\n",
       "    <tr>\n",
       "      <th>2</th>\n",
       "      <td>3</td>\n",
       "      <td>Oil and Economy Cloud Stocks' Outlook (Reuters)</td>\n",
       "      <td>Reuters - Soaring crude prices plus worries\\ab...</td>\n",
       "    </tr>\n",
       "    <tr>\n",
       "      <th>3</th>\n",
       "      <td>3</td>\n",
       "      <td>Iraq Halts Oil Exports from Main Southern Pipe...</td>\n",
       "      <td>Reuters - Authorities have halted oil export\\f...</td>\n",
       "    </tr>\n",
       "    <tr>\n",
       "      <th>4</th>\n",
       "      <td>3</td>\n",
       "      <td>Oil prices soar to all-time record, posing new...</td>\n",
       "      <td>AFP - Tearaway world oil prices, toppling reco...</td>\n",
       "    </tr>\n",
       "  </tbody>\n",
       "</table>\n",
       "</div>"
      ],
      "text/plain": [
       "   ClassIndex                                             Título  \\\n",
       "0           3  Wall St. Bears Claw Back Into the Black (Reuters)   \n",
       "1           3  Carlyle Looks Toward Commercial Aerospace (Reu...   \n",
       "2           3    Oil and Economy Cloud Stocks' Outlook (Reuters)   \n",
       "3           3  Iraq Halts Oil Exports from Main Southern Pipe...   \n",
       "4           3  Oil prices soar to all-time record, posing new...   \n",
       "\n",
       "                                           Descrição  \n",
       "0  Reuters - Short-sellers, Wall Street's dwindli...  \n",
       "1  Reuters - Private investment firm Carlyle Grou...  \n",
       "2  Reuters - Soaring crude prices plus worries\\ab...  \n",
       "3  Reuters - Authorities have halted oil export\\f...  \n",
       "4  AFP - Tearaway world oil prices, toppling reco...  "
      ]
     },
     "execution_count": 3,
     "metadata": {},
     "output_type": "execute_result"
    }
   ],
   "source": [
    "df = pd.read_csv(url, header=None, names=['ClassIndex','Título','Descrição'])\n",
    "df.head()"
   ]
  },
  {
   "cell_type": "markdown",
   "metadata": {
    "id": "CTM8ELRHrHfJ"
   },
   "source": [
    "https://github.com/allanspadini/curso-tensorflow-proxima-palavra/blob/main/dados/classes.txt"
   ]
  },
  {
   "cell_type": "code",
   "execution_count": 4,
   "metadata": {
    "id": "qIg-uKp5nPP2"
   },
   "outputs": [],
   "source": [
    "df['Texto'] = df['Título'] + ' ' + df['Descrição']"
   ]
  },
  {
   "cell_type": "code",
   "execution_count": 5,
   "metadata": {
    "colab": {
     "base_uri": "https://localhost:8080/"
    },
    "id": "oFqDKRWWn_T9",
    "outputId": "a4f5c969-c618-4772-ee9d-5c4a5f5c1750"
   },
   "outputs": [
    {
     "data": {
      "text/plain": [
       "0         Wall St. Bears Claw Back Into the Black (Reute...\n",
       "1         Carlyle Looks Toward Commercial Aerospace (Reu...\n",
       "2         Oil and Economy Cloud Stocks' Outlook (Reuters...\n",
       "3         Iraq Halts Oil Exports from Main Southern Pipe...\n",
       "4         Oil prices soar to all-time record, posing new...\n",
       "                                ...                        \n",
       "119995    Pakistan's Musharraf Says Won't Quit as Army C...\n",
       "119996    Renteria signing a top-shelf deal Red Sox gene...\n",
       "119997    Saban not going to Dolphins yet The Miami Dolp...\n",
       "119998    Today's NFL games PITTSBURGH at NY GIANTS Time...\n",
       "119999    Nets get Carter from Raptors INDIANAPOLIS -- A...\n",
       "Name: Texto, Length: 120000, dtype: object"
      ]
     },
     "execution_count": 5,
     "metadata": {},
     "output_type": "execute_result"
    }
   ],
   "source": [
    "df['Texto']"
   ]
  },
  {
   "cell_type": "code",
   "execution_count": 6,
   "metadata": {
    "id": "zLfnLkWQgy5q"
   },
   "outputs": [],
   "source": [
    "df['ClassIndex'] = df['ClassIndex'] - 1"
   ]
  },
  {
   "cell_type": "code",
   "execution_count": 7,
   "metadata": {
    "id": "xi-NmM1Qez0Y"
   },
   "outputs": [],
   "source": [
    "from sklearn.model_selection import train_test_split"
   ]
  },
  {
   "cell_type": "code",
   "execution_count": 8,
   "metadata": {
    "id": "Q5vz4RaMwdw-"
   },
   "outputs": [],
   "source": [
    "X_treino, X_teste, y_treino,y_teste = train_test_split(df['Texto'].values, df['ClassIndex'].values, test_size=0.2, random_state=4266)"
   ]
  },
  {
   "cell_type": "markdown",
   "metadata": {
    "id": "htayfeB9rYM3"
   },
   "source": [
    "## Vídeo 1.3 - Codificando o texto"
   ]
  },
  {
   "cell_type": "code",
   "execution_count": 9,
   "metadata": {
    "id": "O73WAjn7rK-k"
   },
   "outputs": [
    {
     "name": "stderr",
     "output_type": "stream",
     "text": [
      "2024-06-19 16:50:01.352268: I tensorflow/core/platform/cpu_feature_guard.cc:210] This TensorFlow binary is optimized to use available CPU instructions in performance-critical operations.\n",
      "To enable the following instructions: AVX2 FMA, in other operations, rebuild TensorFlow with the appropriate compiler flags.\n",
      "2024-06-19 16:50:02.066188: W tensorflow/compiler/tf2tensorrt/utils/py_utils.cc:38] TF-TRT Warning: Could not find TensorRT\n"
     ]
    }
   ],
   "source": [
    "import tensorflow as tf"
   ]
  },
  {
   "cell_type": "code",
   "execution_count": 10,
   "metadata": {
    "id": "vznL6g1yodAG"
   },
   "outputs": [
    {
     "name": "stderr",
     "output_type": "stream",
     "text": [
      "2024-06-19 16:50:02.717628: I tensorflow/core/common_runtime/gpu/gpu_device.cc:1928] Created device /job:localhost/replica:0/task:0/device:GPU:0 with 20974 MB memory:  -> device: 0, name: NVIDIA L4, pci bus id: 0000:35:00.0, compute capability: 8.9\n"
     ]
    }
   ],
   "source": [
    "VOCAB_SIZE = 1000\n",
    "encoder = tf.keras.layers.TextVectorization(\n",
    "    max_tokens=VOCAB_SIZE)\n"
   ]
  },
  {
   "cell_type": "code",
   "execution_count": 11,
   "metadata": {
    "id": "ylqxttkysUyt"
   },
   "outputs": [],
   "source": [
    "encoder.adapt(X_treino)"
   ]
  },
  {
   "cell_type": "code",
   "execution_count": 12,
   "metadata": {
    "colab": {
     "base_uri": "https://localhost:8080/"
    },
    "id": "yWGRece3sX1H",
    "outputId": "038200b0-038a-4293-9a29-64971a5bc374"
   },
   "outputs": [
    {
     "data": {
      "text/plain": [
       "['',\n",
       " '39s',\n",
       " 'it',\n",
       " 'was',\n",
       " 'more',\n",
       " 'company',\n",
       " 'than',\n",
       " 'microsoft',\n",
       " 'prices',\n",
       " 'people',\n",
       " 'next',\n",
       " 'sales',\n",
       " 'state',\n",
       " 'most',\n",
       " 'profit',\n",
       " 'lead',\n",
       " 'online',\n",
       " '39t',\n",
       " 'red',\n",
       " 'during',\n",
       " 'say',\n",
       " 'between',\n",
       " 'country',\n",
       " 'mobile',\n",
       " 'quarter',\n",
       " 'being',\n",
       " 'dollar',\n",
       " 'stock',\n",
       " 'sox',\n",
       " 'olympic',\n",
       " 'users',\n",
       " 'price',\n",
       " 'how',\n",
       " 'peace',\n",
       " 'six',\n",
       " 'key',\n",
       " 'i',\n",
       " 'should',\n",
       " 'financial',\n",
       " 'leaders',\n",
       " 'house',\n",
       " 'sun',\n",
       " 'used',\n",
       " 'seven',\n",
       " 'israel',\n",
       " 'future',\n",
       " 'trial',\n",
       " 'half',\n",
       " 'customers',\n",
       " 'defense',\n",
       " 'arafat',\n",
       " 'northern',\n",
       " 'due',\n",
       " 'men',\n",
       " 'hopes',\n",
       " 'using',\n",
       " 'scored',\n",
       " 'university',\n",
       " 'texas',\n",
       " 'mark',\n",
       " 'we',\n",
       " 'accused',\n",
       " 'profits',\n",
       " '18',\n",
       " 'possible',\n",
       " 'call',\n",
       " 'rally',\n",
       " 'teams',\n",
       " 'division',\n",
       " '7',\n",
       " 'takeover',\n",
       " 'production',\n",
       " 'outlook',\n",
       " 'began',\n",
       " 'helped',\n",
       " 'opening',\n",
       " 'sept',\n",
       " 'spain',\n",
       " 'hours',\n",
       " 'starting',\n",
       " 'nine',\n",
       " 'pressure',\n",
       " 'executives',\n",
       " 'personal',\n",
       " 'once',\n",
       " 'italian',\n",
       " 'push',\n",
       " 'continued',\n",
       " 'rising',\n",
       " 'kill',\n",
       " 'powerful',\n",
       " 'side',\n",
       " 'designed',\n",
       " 'groups',\n",
       " 'mission',\n",
       " 'najaf',\n",
       " 'fired',\n",
       " 'sold',\n",
       " 'launches',\n",
       " 'guard']"
      ]
     },
     "execution_count": 12,
     "metadata": {},
     "output_type": "execute_result"
    }
   ],
   "source": [
    "encoder.get_vocabulary()[::10]"
   ]
  },
  {
   "cell_type": "code",
   "execution_count": 13,
   "metadata": {
    "id": "H-elCmMosv5R"
   },
   "outputs": [],
   "source": [
    "Exemplo = \"Today's NFL games PITTSBURGH at NY GIANTS\""
   ]
  },
  {
   "cell_type": "code",
   "execution_count": 14,
   "metadata": {
    "colab": {
     "base_uri": "https://localhost:8080/"
    },
    "id": "ScTGeYYTtIWB",
    "outputId": "8a6d2019-711f-4eed-fb62-c15b30fc56bc"
   },
   "outputs": [
    {
     "data": {
      "text/plain": [
       "<tf.Tensor: shape=(7,), dtype=int64, numpy=array([  1, 713, 202,   1,  14,   1, 516])>"
      ]
     },
     "execution_count": 14,
     "metadata": {},
     "output_type": "execute_result"
    }
   ],
   "source": [
    "encoder(Exemplo)"
   ]
  },
  {
   "cell_type": "markdown",
   "metadata": {
    "id": "Oj1WAoDmukc5"
   },
   "source": [
    "## Vídeo 1.4 - Criando um modelo"
   ]
  },
  {
   "cell_type": "code",
   "execution_count": 15,
   "metadata": {
    "id": "tnYtHv3_tP-S"
   },
   "outputs": [],
   "source": [
    "modelo = tf.keras.Sequential([\n",
    "    encoder,\n",
    "    tf.keras.layers.Embedding(\n",
    "        input_dim=len(encoder.get_vocabulary()),\n",
    "        output_dim=16,\n",
    "        # Use masking to handle the variable sequence lengths\n",
    "        mask_zero=True),\n",
    "    tf.keras.layers.GlobalAveragePooling1D(),\n",
    "    tf.keras.layers.Dense(16, activation='relu'),\n",
    "    tf.keras.layers.Dense(4, activation='softmax')\n",
    "\n",
    "])"
   ]
  },
  {
   "cell_type": "code",
   "execution_count": 16,
   "metadata": {
    "id": "3Xu0FJk30REc"
   },
   "outputs": [],
   "source": [
    "# Compilar o modelo\n",
    "modelo.compile(optimizer=tf.keras.optimizers.Adam(1e-4), loss='sparse_categorical_crossentropy', metrics=['accuracy'])"
   ]
  },
  {
   "cell_type": "markdown",
   "metadata": {
    "id": "VL9l73_m1Aqj"
   },
   "source": [
    "https://projector.tensorflow.org/"
   ]
  },
  {
   "cell_type": "code",
   "execution_count": 17,
   "metadata": {},
   "outputs": [
    {
     "data": {
      "text/plain": [
       "'Border Patrol Training Moves Near Mexico (AP) AP - Incoming Border Patrol agents will train closer to the U.S.-Mexican border when the federal government relocates their academy to Artesia, N.M., Customs and Border Protection announced Thursday.'"
      ]
     },
     "execution_count": 17,
     "metadata": {},
     "output_type": "execute_result"
    }
   ],
   "source": [
    "X_teste[0]"
   ]
  },
  {
   "cell_type": "code",
   "execution_count": 18,
   "metadata": {},
   "outputs": [
    {
     "data": {
      "text/plain": [
       "0"
      ]
     },
     "execution_count": 18,
     "metadata": {},
     "output_type": "execute_result"
    }
   ],
   "source": [
    "y_teste[0]"
   ]
  },
  {
   "cell_type": "code",
   "execution_count": 19,
   "metadata": {},
   "outputs": [
    {
     "data": {
      "text/plain": [
       "(24000,)"
      ]
     },
     "execution_count": 19,
     "metadata": {},
     "output_type": "execute_result"
    }
   ],
   "source": [
    "X_teste.shape"
   ]
  },
  {
   "cell_type": "code",
   "execution_count": 20,
   "metadata": {},
   "outputs": [
    {
     "name": "stdout",
     "output_type": "stream",
     "text": [
      "\u001b[1m1/1\u001b[0m \u001b[32m━━━━━━━━━━━━━━━━━━━━\u001b[0m\u001b[37m\u001b[0m \u001b[1m0s\u001b[0m 286ms/step\n"
     ]
    },
    {
     "data": {
      "text/plain": [
       "array([[0.24645628, 0.24776942, 0.2520367 , 0.25373763]], dtype=float32)"
      ]
     },
     "execution_count": 20,
     "metadata": {},
     "output_type": "execute_result"
    }
   ],
   "source": [
    "modelo.predict(X_teste[:1])"
   ]
  },
  {
   "cell_type": "code",
   "execution_count": 21,
   "metadata": {},
   "outputs": [
    {
     "name": "stdout",
     "output_type": "stream",
     "text": [
      "\u001b[1m1/1\u001b[0m \u001b[32m━━━━━━━━━━━━━━━━━━━━\u001b[0m\u001b[37m\u001b[0m \u001b[1m0s\u001b[0m 12ms/step\n"
     ]
    },
    {
     "data": {
      "text/plain": [
       "array([3])"
      ]
     },
     "execution_count": 21,
     "metadata": {},
     "output_type": "execute_result"
    }
   ],
   "source": [
    "modelo.predict(X_teste[:1]).argmax(axis=1)"
   ]
  },
  {
   "cell_type": "markdown",
   "metadata": {
    "id": "zzlGcPKRwfmt"
   },
   "source": [
    "# Aula 2 - Classificando o texto"
   ]
  },
  {
   "cell_type": "markdown",
   "metadata": {
    "id": "eWaCRwjkosjN"
   },
   "source": [
    "## Vídeo 2.1: Treinando com camadas densas"
   ]
  },
  {
   "cell_type": "code",
   "execution_count": 22,
   "metadata": {
    "id": "OWEbo3SooZ3I"
   },
   "outputs": [],
   "source": [
    "epocas = 10"
   ]
  },
  {
   "cell_type": "code",
   "execution_count": 23,
   "metadata": {
    "colab": {
     "base_uri": "https://localhost:8080/"
    },
    "id": "GvAwF-3MeTd7",
    "outputId": "7e6bf946-ece7-4bb1-999e-cf2f35344837"
   },
   "outputs": [
    {
     "name": "stdout",
     "output_type": "stream",
     "text": [
      "Epoch 1/10\n"
     ]
    },
    {
     "name": "stdout",
     "output_type": "stream",
     "text": [
      "\u001b[1m3000/3000\u001b[0m \u001b[32m━━━━━━━━━━━━━━━━━━━━\u001b[0m\u001b[37m\u001b[0m \u001b[1m6s\u001b[0m 2ms/step - accuracy: 0.4662 - loss: 1.3224 - val_accuracy: 0.7714 - val_loss: 0.9293\n",
      "Epoch 2/10\n",
      "\u001b[1m3000/3000\u001b[0m \u001b[32m━━━━━━━━━━━━━━━━━━━━\u001b[0m\u001b[37m\u001b[0m \u001b[1m5s\u001b[0m 2ms/step - accuracy: 0.7909 - loss: 0.8150 - val_accuracy: 0.8161 - val_loss: 0.6001\n",
      "Epoch 3/10\n",
      "\u001b[1m3000/3000\u001b[0m \u001b[32m━━━━━━━━━━━━━━━━━━━━\u001b[0m\u001b[37m\u001b[0m \u001b[1m5s\u001b[0m 2ms/step - accuracy: 0.8266 - loss: 0.5588 - val_accuracy: 0.8359 - val_loss: 0.4982\n",
      "Epoch 4/10\n",
      "\u001b[1m3000/3000\u001b[0m \u001b[32m━━━━━━━━━━━━━━━━━━━━\u001b[0m\u001b[37m\u001b[0m \u001b[1m5s\u001b[0m 2ms/step - accuracy: 0.8434 - loss: 0.4750 - val_accuracy: 0.8455 - val_loss: 0.4562\n",
      "Epoch 5/10\n",
      "\u001b[1m3000/3000\u001b[0m \u001b[32m━━━━━━━━━━━━━━━━━━━━\u001b[0m\u001b[37m\u001b[0m \u001b[1m5s\u001b[0m 2ms/step - accuracy: 0.8533 - loss: 0.4416 - val_accuracy: 0.8531 - val_loss: 0.4346\n",
      "Epoch 6/10\n",
      "\u001b[1m3000/3000\u001b[0m \u001b[32m━━━━━━━━━━━━━━━━━━━━\u001b[0m\u001b[37m\u001b[0m \u001b[1m5s\u001b[0m 2ms/step - accuracy: 0.8571 - loss: 0.4240 - val_accuracy: 0.8565 - val_loss: 0.4213\n",
      "Epoch 7/10\n",
      "\u001b[1m3000/3000\u001b[0m \u001b[32m━━━━━━━━━━━━━━━━━━━━\u001b[0m\u001b[37m\u001b[0m \u001b[1m5s\u001b[0m 2ms/step - accuracy: 0.8626 - loss: 0.4064 - val_accuracy: 0.8584 - val_loss: 0.4129\n",
      "Epoch 8/10\n",
      "\u001b[1m3000/3000\u001b[0m \u001b[32m━━━━━━━━━━━━━━━━━━━━\u001b[0m\u001b[37m\u001b[0m \u001b[1m5s\u001b[0m 2ms/step - accuracy: 0.8662 - loss: 0.3951 - val_accuracy: 0.8601 - val_loss: 0.4069\n",
      "Epoch 9/10\n",
      "\u001b[1m3000/3000\u001b[0m \u001b[32m━━━━━━━━━━━━━━━━━━━━\u001b[0m\u001b[37m\u001b[0m \u001b[1m5s\u001b[0m 2ms/step - accuracy: 0.8676 - loss: 0.3888 - val_accuracy: 0.8605 - val_loss: 0.4026\n",
      "Epoch 10/10\n",
      "\u001b[1m3000/3000\u001b[0m \u001b[32m━━━━━━━━━━━━━━━━━━━━\u001b[0m\u001b[37m\u001b[0m \u001b[1m5s\u001b[0m 2ms/step - accuracy: 0.8691 - loss: 0.3820 - val_accuracy: 0.8624 - val_loss: 0.3990\n"
     ]
    }
   ],
   "source": [
    "history = modelo.fit(X_treino, y_treino, epochs=epocas, validation_data=(X_teste, y_teste))"
   ]
  },
  {
   "cell_type": "code",
   "execution_count": 24,
   "metadata": {
    "id": "8HfUS-bkoVJk"
   },
   "outputs": [],
   "source": [
    "import matplotlib.pyplot as plt"
   ]
  },
  {
   "cell_type": "code",
   "execution_count": 25,
   "metadata": {
    "id": "VgxI00CDoTeQ"
   },
   "outputs": [],
   "source": [
    "def plota_resultados(history,epocas):\n",
    "  acc = history.history['accuracy']\n",
    "  val_acc = history.history['val_accuracy']\n",
    "\n",
    "  loss = history.history['loss']\n",
    "  val_loss = history.history['val_loss']\n",
    "\n",
    "  intervalo_epocas = range(epocas)\n",
    "  plt.figure(figsize=(12, 6))\n",
    "  plt.subplot(1, 2, 1)\n",
    "  plt.plot(intervalo_epocas, acc, label='Acurácia do Treino')\n",
    "  plt.plot(intervalo_epocas, val_acc, label='Acurácia da Validação')\n",
    "  plt.legend(loc='lower right')\n",
    "\n",
    "\n",
    "  plt.subplot(1, 2, 2)\n",
    "  plt.plot(intervalo_epocas, loss, label='Custo do Treino')\n",
    "  plt.plot(intervalo_epocas, val_loss, label='Custo da Validação')\n",
    "  plt.legend(loc='upper right')\n",
    "  plt.show()"
   ]
  },
  {
   "cell_type": "code",
   "execution_count": 26,
   "metadata": {
    "colab": {
     "base_uri": "https://localhost:8080/",
     "height": 522
    },
    "id": "AHhyjYEvoeIF",
    "outputId": "1c21d8ed-f820-4493-f25e-f03f75bbfe17"
   },
   "outputs": [
    {
     "data": {
      "image/png": "[encoded data removed]",
      "text/plain": [
       "<Figure size 1200x600 with 2 Axes>"
      ]
     },
     "metadata": {},
     "output_type": "display_data"
    }
   ],
   "source": [
    "plota_resultados(history,epocas)"
   ]
  },
  {
   "cell_type": "markdown",
   "metadata": {
    "id": "Hlsf8NfKqEOt"
   },
   "source": [
    "## Vídeo 2.2: Adicionando camadas convolucionais"
   ]
  },
  {
   "cell_type": "code",
   "execution_count": 27,
   "metadata": {
    "id": "-d3Tv5abqRFA"
   },
   "outputs": [],
   "source": [
    "modelo = tf.keras.Sequential([\n",
    "    encoder,\n",
    "    tf.keras.layers.Embedding(\n",
    "        input_dim=len(encoder.get_vocabulary()),\n",
    "        output_dim=16,\n",
    "        mask_zero=True\n",
    "    ),\n",
    "    tf.keras.layers.Conv1D(64, kernel_size=3, activation='relu'),\n",
    "    tf.keras.layers.MaxPooling1D(),\n",
    "    tf.keras.layers.Conv1D(128, kernel_size=4, activation='relu'),\n",
    "    tf.keras.layers.GlobalAveragePooling1D(),\n",
    "    tf.keras.layers.Dropout(0.5),\n",
    "    tf.keras.layers.Dense(64, activation='relu'),\n",
    "    tf.keras.layers.Dense(4, activation='softmax')\n",
    "])\n"
   ]
  },
  {
   "cell_type": "code",
   "execution_count": 28,
   "metadata": {
    "id": "tso9FQpJrG62"
   },
   "outputs": [],
   "source": [
    "# Compilar o modelo\n",
    "modelo.compile(optimizer=tf.keras.optimizers.Adam(1e-4), loss='sparse_categorical_crossentropy', metrics=['accuracy'])"
   ]
  },
  {
   "cell_type": "code",
   "execution_count": 29,
   "metadata": {
    "colab": {
     "base_uri": "https://localhost:8080/"
    },
    "id": "kkYG9SocqX9l",
    "outputId": "083d291f-b0b9-4c35-991b-0dc31158eb3e"
   },
   "outputs": [
    {
     "name": "stdout",
     "output_type": "stream",
     "text": [
      "Epoch 1/10\n"
     ]
    },
    {
     "name": "stderr",
     "output_type": "stream",
     "text": [
      "/home/zeus/miniconda3/envs/cloudspace/lib/python3.10/site-packages/keras/src/layers/layer.py:877: UserWarning: Layer 'conv1d' (of type Conv1D) was passed an input with a mask attached to it. However, this layer does not support masking and will therefore destroy the mask information. Downstream layers will not see the mask.\n",
      "  warnings.warn(\n",
      "2024-06-19 16:51:05.636052: I external/local_xla/xla/stream_executor/cuda/cuda_dnn.cc:465] Loaded cuDNN version 8900\n"
     ]
    },
    {
     "name": "stdout",
     "output_type": "stream",
     "text": [
      "\u001b[1m  31/3000\u001b[0m \u001b[37m━━━━━━━━━━━━━━━━━━━━\u001b[0m \u001b[1m3:31\u001b[0m 71ms/step - accuracy: 0.2397 - loss: 1.3868"
     ]
    },
    {
     "name": "stdout",
     "output_type": "stream",
     "text": [
      "\u001b[1m1244/3000\u001b[0m \u001b[32m━━━━━━━━\u001b[0m\u001b[37m━━━━━━━━━━━━\u001b[0m \u001b[1m16s\u001b[0m 9ms/step - accuracy: 0.3746 - loss: 1.2903 "
     ]
    },
    {
     "ename": "",
     "evalue": "",
     "output_type": "error",
     "traceback": [
      "\u001b[1;31mThe Kernel crashed while executing code in the current cell or a previous cell. \n",
      "\u001b[1;31mPlease review the code in the cell(s) to identify a possible cause of the failure. \n",
      "\u001b[1;31mClick <a href='https://aka.ms/vscodeJupyterKernelCrash'>here</a> for more info. \n",
      "\u001b[1;31mView Jupyter <a href='command:jupyter.viewOutput'>log</a> for further details."
     ]
    }
   ],
   "source": [
    "history = modelo.fit(X_treino, y_treino, epochs=epocas, validation_data=(X_teste, y_teste))"
   ]
  },
  {
   "cell_type": "code",
   "execution_count": null,
   "metadata": {
    "colab": {
     "base_uri": "https://localhost:8080/",
     "height": 522
    },
    "id": "NJlrHp9srLXh",
    "outputId": "0cac0e8f-065d-42bc-983c-291adf103da0"
   },
   "outputs": [
    {
     "data": {
      "image/png": "[encoded data removed]",
      "text/plain": [
       "<Figure size 1200x600 with 2 Axes>"
      ]
     },
     "metadata": {},
     "output_type": "display_data"
    }
   ],
   "source": [
    "plota_resultados(history,epocas)"
   ]
  },
  {
   "cell_type": "markdown",
   "metadata": {
    "id": "MYnb9BLrtNST"
   },
   "source": [
    "## Vídeo 2.3 - Adicionando camadas LSTM"
   ]
  },
  {
   "cell_type": "code",
   "execution_count": 31,
   "metadata": {
    "id": "zr8H_H92tTaF"
   },
   "outputs": [],
   "source": [
    "modelo = tf.keras.Sequential([\n",
    "    encoder,\n",
    "    tf.keras.layers.Embedding(\n",
    "        input_dim=len(encoder.get_vocabulary()),\n",
    "        output_dim=64,\n",
    "        mask_zero=True\n",
    "    ),\n",
    "    tf.keras.layers.Bidirectional(tf.keras.layers.LSTM(64, return_sequences=True)),  # Camada BiLSTM\n",
    "    tf.keras.layers.Bidirectional(tf.keras.layers.LSTM(32)),\n",
    "    tf.keras.layers.Dense(64, activation='relu'),\n",
    "    tf.keras.layers.Dropout(0.5),\n",
    "    tf.keras.layers.Dense(4, activation='softmax')\n",
    "])\n"
   ]
  },
  {
   "cell_type": "code",
   "execution_count": 32,
   "metadata": {
    "id": "Asd5D8aqtZGM"
   },
   "outputs": [],
   "source": [
    "# Compilar o modelo\n",
    "modelo.compile(optimizer=tf.keras.optimizers.Adam(1e-4), loss='sparse_categorical_crossentropy', metrics=['accuracy'])"
   ]
  },
  {
   "cell_type": "code",
   "execution_count": 33,
   "metadata": {
    "id": "h4Em4nkv-PeV"
   },
   "outputs": [],
   "source": [
    "epocas = 20"
   ]
  },
  {
   "cell_type": "code",
   "execution_count": 34,
   "metadata": {
    "colab": {
     "base_uri": "https://localhost:8080/"
    },
    "id": "yGv_VB28tbp9",
    "outputId": "2451f704-a7c7-4a0f-8b20-0a553027d82f"
   },
   "outputs": [
    {
     "name": "stdout",
     "output_type": "stream",
     "text": [
      "Epoch 1/20\n"
     ]
    },
    {
     "name": "stdout",
     "output_type": "stream",
     "text": [
      "\u001b[1m3000/3000\u001b[0m \u001b[32m━━━━━━━━━━━━━━━━━━━━\u001b[0m\u001b[37m\u001b[0m \u001b[1m254s\u001b[0m 83ms/step - accuracy: 0.5881 - loss: 0.9290 - val_accuracy: 0.8395 - val_loss: 0.4467\n",
      "Epoch 2/20\n",
      "\u001b[1m3000/3000\u001b[0m \u001b[32m━━━━━━━━━━━━━━━━━━━━\u001b[0m\u001b[37m\u001b[0m \u001b[1m247s\u001b[0m 82ms/step - accuracy: 0.8442 - loss: 0.4645 - val_accuracy: 0.8517 - val_loss: 0.4215\n",
      "Epoch 3/20\n",
      "\u001b[1m3000/3000\u001b[0m \u001b[32m━━━━━━━━━━━━━━━━━━━━\u001b[0m\u001b[37m\u001b[0m \u001b[1m250s\u001b[0m 83ms/step - accuracy: 0.8524 - loss: 0.4445 - val_accuracy: 0.8599 - val_loss: 0.4034\n",
      "Epoch 4/20\n",
      "\u001b[1m3000/3000\u001b[0m \u001b[32m━━━━━━━━━━━━━━━━━━━━\u001b[0m\u001b[37m\u001b[0m \u001b[1m246s\u001b[0m 82ms/step - accuracy: 0.8617 - loss: 0.4126 - val_accuracy: 0.8643 - val_loss: 0.3900\n",
      "Epoch 5/20\n",
      "\u001b[1m3000/3000\u001b[0m \u001b[32m━━━━━━━━━━━━━━━━━━━━\u001b[0m\u001b[37m\u001b[0m \u001b[1m248s\u001b[0m 83ms/step - accuracy: 0.8681 - loss: 0.3928 - val_accuracy: 0.8637 - val_loss: 0.3870\n",
      "Epoch 6/20\n",
      "\u001b[1m3000/3000\u001b[0m \u001b[32m━━━━━━━━━━━━━━━━━━━━\u001b[0m\u001b[37m\u001b[0m \u001b[1m252s\u001b[0m 84ms/step - accuracy: 0.8707 - loss: 0.3824 - val_accuracy: 0.8688 - val_loss: 0.3761\n",
      "Epoch 7/20\n",
      "\u001b[1m3000/3000\u001b[0m \u001b[32m━━━━━━━━━━━━━━━━━━━━\u001b[0m\u001b[37m\u001b[0m \u001b[1m249s\u001b[0m 83ms/step - accuracy: 0.8731 - loss: 0.3736 - val_accuracy: 0.8649 - val_loss: 0.3769\n",
      "Epoch 8/20\n",
      "\u001b[1m3000/3000\u001b[0m \u001b[32m━━━━━━━━━━━━━━━━━━━━\u001b[0m\u001b[37m\u001b[0m \u001b[1m247s\u001b[0m 82ms/step - accuracy: 0.8739 - loss: 0.3721 - val_accuracy: 0.8660 - val_loss: 0.3770\n",
      "Epoch 9/20\n",
      "\u001b[1m3000/3000\u001b[0m \u001b[32m━━━━━━━━━━━━━━━━━━━━\u001b[0m\u001b[37m\u001b[0m \u001b[1m247s\u001b[0m 82ms/step - accuracy: 0.8775 - loss: 0.3598 - val_accuracy: 0.8683 - val_loss: 0.3718\n",
      "Epoch 10/20\n",
      "\u001b[1m3000/3000\u001b[0m \u001b[32m━━━━━━━━━━━━━━━━━━━━\u001b[0m\u001b[37m\u001b[0m \u001b[1m247s\u001b[0m 82ms/step - accuracy: 0.8781 - loss: 0.3576 - val_accuracy: 0.8636 - val_loss: 0.3824\n",
      "Epoch 11/20\n",
      "\u001b[1m3000/3000\u001b[0m \u001b[32m━━━━━━━━━━━━━━━━━━━━\u001b[0m\u001b[37m\u001b[0m \u001b[1m246s\u001b[0m 82ms/step - accuracy: 0.8800 - loss: 0.3508 - val_accuracy: 0.8693 - val_loss: 0.3692\n",
      "Epoch 12/20\n",
      "\u001b[1m3000/3000\u001b[0m \u001b[32m━━━━━━━━━━━━━━━━━━━━\u001b[0m\u001b[37m\u001b[0m \u001b[1m246s\u001b[0m 82ms/step - accuracy: 0.8810 - loss: 0.3466 - val_accuracy: 0.8676 - val_loss: 0.3719\n",
      "Epoch 13/20\n",
      "\u001b[1m3000/3000\u001b[0m \u001b[32m━━━━━━━━━━━━━━━━━━━━\u001b[0m\u001b[37m\u001b[0m \u001b[1m247s\u001b[0m 82ms/step - accuracy: 0.8828 - loss: 0.3409 - val_accuracy: 0.8717 - val_loss: 0.3637\n",
      "Epoch 14/20\n",
      "\u001b[1m3000/3000\u001b[0m \u001b[32m━━━━━━━━━━━━━━━━━━━━\u001b[0m\u001b[37m\u001b[0m \u001b[1m252s\u001b[0m 84ms/step - accuracy: 0.8825 - loss: 0.3416 - val_accuracy: 0.8703 - val_loss: 0.3668\n",
      "Epoch 15/20\n",
      "\u001b[1m3000/3000\u001b[0m \u001b[32m━━━━━━━━━━━━━━━━━━━━\u001b[0m\u001b[37m\u001b[0m \u001b[1m251s\u001b[0m 84ms/step - accuracy: 0.8841 - loss: 0.3370 - val_accuracy: 0.8709 - val_loss: 0.3670\n",
      "Epoch 16/20\n",
      "\u001b[1m3000/3000\u001b[0m \u001b[32m━━━━━━━━━━━━━━━━━━━━\u001b[0m\u001b[37m\u001b[0m \u001b[1m248s\u001b[0m 83ms/step - accuracy: 0.8846 - loss: 0.3334 - val_accuracy: 0.8710 - val_loss: 0.3704\n",
      "Epoch 17/20\n",
      "\u001b[1m3000/3000\u001b[0m \u001b[32m━━━━━━━━━━━━━━━━━━━━\u001b[0m\u001b[37m\u001b[0m \u001b[1m247s\u001b[0m 82ms/step - accuracy: 0.8883 - loss: 0.3270 - val_accuracy: 0.8712 - val_loss: 0.3653\n",
      "Epoch 18/20\n",
      "\u001b[1m3000/3000\u001b[0m \u001b[32m━━━━━━━━━━━━━━━━━━━━\u001b[0m\u001b[37m\u001b[0m \u001b[1m251s\u001b[0m 84ms/step - accuracy: 0.8855 - loss: 0.3272 - val_accuracy: 0.8697 - val_loss: 0.3648\n",
      "Epoch 19/20\n",
      "\u001b[1m3000/3000\u001b[0m \u001b[32m━━━━━━━━━━━━━━━━━━━━\u001b[0m\u001b[37m\u001b[0m \u001b[1m251s\u001b[0m 84ms/step - accuracy: 0.8898 - loss: 0.3167 - val_accuracy: 0.8706 - val_loss: 0.3694\n",
      "Epoch 20/20\n",
      "\u001b[1m3000/3000\u001b[0m \u001b[32m━━━━━━━━━━━━━━━━━━━━\u001b[0m\u001b[37m\u001b[0m \u001b[1m251s\u001b[0m 84ms/step - accuracy: 0.8894 - loss: 0.3173 - val_accuracy: 0.8713 - val_loss: 0.3668\n"
     ]
    }
   ],
   "source": [
    "history = modelo.fit(X_treino, y_treino, epochs=epocas, validation_data=(X_teste, y_teste))"
   ]
  },
  {
   "cell_type": "code",
   "execution_count": 35,
   "metadata": {
    "colab": {
     "base_uri": "https://localhost:8080/",
     "height": 522
    },
    "id": "s2uuicnEtd3w",
    "outputId": "96ce9fad-7afd-4472-b906-867ead75f5a2"
   },
   "outputs": [
    {
     "data": {
      "image/png": "[encoded data removed]",
      "text/plain": [
       "<Figure size 1200x600 with 2 Axes>"
      ]
     },
     "metadata": {},
     "output_type": "display_data"
    }
   ],
   "source": [
    "plota_resultados(history,epocas)"
   ]
  },
  {
   "cell_type": "code",
   "execution_count": 41,
   "metadata": {},
   "outputs": [
    {
     "name": "stdout",
     "output_type": "stream",
     "text": [
      "\u001b[1m1/1\u001b[0m \u001b[32m━━━━━━━━━━━━━━━━━━━━\u001b[0m\u001b[37m\u001b[0m \u001b[1m0s\u001b[0m 23ms/step\n"
     ]
    },
    {
     "data": {
      "text/plain": [
       "array([[0.94047403, 0.01176369, 0.03491015, 0.01285213]], dtype=float32)"
      ]
     },
     "execution_count": 41,
     "metadata": {},
     "output_type": "execute_result"
    }
   ],
   "source": [
    "modelo.predict(X_teste[1:2])"
   ]
  },
  {
   "cell_type": "code",
   "execution_count": 42,
   "metadata": {},
   "outputs": [
    {
     "name": "stdout",
     "output_type": "stream",
     "text": [
      "\u001b[1m1/1\u001b[0m \u001b[32m━━━━━━━━━━━━━━━━━━━━\u001b[0m\u001b[37m\u001b[0m \u001b[1m0s\u001b[0m 26ms/step\n"
     ]
    },
    {
     "data": {
      "text/plain": [
       "array([0])"
      ]
     },
     "execution_count": 42,
     "metadata": {},
     "output_type": "execute_result"
    }
   ],
   "source": [
    "modelo.predict(X_teste[1:2]).argmax(axis=1)"
   ]
  },
  {
   "cell_type": "code",
   "execution_count": 43,
   "metadata": {},
   "outputs": [
    {
     "data": {
      "text/plain": [
       "0"
      ]
     },
     "execution_count": 43,
     "metadata": {},
     "output_type": "execute_result"
    }
   ],
   "source": [
    "y_teste[1]"
   ]
  },
  {
   "cell_type": "markdown",
   "metadata": {
    "id": "SAeXUCtWc54I"
   },
   "source": [
    "# Aula 3 - Validando os resultados"
   ]
  },
  {
   "cell_type": "markdown",
   "metadata": {
    "id": "wiHotXAj-g2C"
   },
   "source": [
    "## Vídeo 3.1 - Buscando os melhores parâmetros"
   ]
  },
  {
   "cell_type": "code",
   "execution_count": 38,
   "metadata": {
    "colab": {
     "base_uri": "https://localhost:8080/"
    },
    "id": "E1K4XmNBBeLb",
    "outputId": "41c9b11c-48f1-4d94-c2a7-a20432ae774d"
   },
   "outputs": [],
   "source": [
    "#%pip install keras-tuner"
   ]
  },
  {
   "cell_type": "code",
   "execution_count": 39,
   "metadata": {
    "id": "h8htiIMUBZzt"
   },
   "outputs": [],
   "source": [
    "import keras_tuner as kt"
   ]
  },
  {
   "cell_type": "code",
   "execution_count": 34,
   "metadata": {
    "id": "CE_ds79i-V2_"
   },
   "outputs": [],
   "source": [
    "# Função para criar o modelo\n",
    "def build_model(hp):\n",
    "    model = tf.keras.Sequential([\n",
    "        encoder,\n",
    "        tf.keras.layers.Embedding(\n",
    "            input_dim=len(encoder.get_vocabulary()),\n",
    "            output_dim=hp.Int('embedding_dim', min_value=32, max_value=128, step=32),\n",
    "            mask_zero=True\n",
    "        ),\n",
    "        tf.keras.layers.Bidirectional(tf.keras.layers.LSTM(\n",
    "            units=hp.Int('lstm_units', min_value=32, max_value=128, step=32),\n",
    "            return_sequences=True\n",
    "        )),\n",
    "        tf.keras.layers.Bidirectional(tf.keras.layers.LSTM(\n",
    "            units=hp.Int('lstm_units', min_value=16, max_value=64, step=16)\n",
    "        )),\n",
    "        tf.keras.layers.Dense(\n",
    "            units=hp.Int('dense_units', min_value=32, max_value=128, step=32),\n",
    "            activation='relu'\n",
    "        ),\n",
    "        tf.keras.layers.Dropout(rate=hp.Float('dropout', min_value=0.2, max_value=0.5, step=0.1)),\n",
    "        tf.keras.layers.Dense(4, activation='softmax')\n",
    "    ])\n",
    "    model.compile(optimizer='adam', loss='sparse_categorical_crossentropy', metrics=['accuracy'])\n",
    "    return model"
   ]
  },
  {
   "cell_type": "code",
   "execution_count": 35,
   "metadata": {
    "id": "fTM4tRrZGcMi"
   },
   "outputs": [],
   "source": [
    "# Configuração do tuner para otimização de hiperparâmetros\n",
    "tuner = kt.Hyperband(\n",
    "    build_model,\n",
    "    objective='val_accuracy',\n",
    "    max_epochs=5,\n",
    "    factor=3,\n",
    "    directory='my_dir',\n",
    "    project_name='classification_optimization'\n",
    ")"
   ]
  },
  {
   "cell_type": "markdown",
   "metadata": {
    "id": "RAyB1_mwG4YJ"
   },
   "source": [
    "## Vídeo 3.2 - Aplicando a validação cruzada"
   ]
  },
  {
   "cell_type": "code",
   "execution_count": 36,
   "metadata": {
    "id": "0oT2G-zNHqE8"
   },
   "outputs": [],
   "source": [
    "from sklearn.model_selection import KFold"
   ]
  },
  {
   "cell_type": "code",
   "execution_count": 37,
   "metadata": {
    "id": "ZI4PVS8jHPNC"
   },
   "outputs": [],
   "source": [
    "# Função para fazer a validação cruzada e otimização de hiperparâmetros\n",
    "def run_tuner(X, y, n_splits=5):\n",
    "    kf = KFold(n_splits=n_splits, shuffle=True, random_state=42)\n",
    "\n",
    "    for train_index, val_index in kf.split(X):\n",
    "        X_train_fold, X_val_fold = X[train_index], X[val_index]\n",
    "        y_train_fold, y_val_fold = y[train_index], y[val_index]\n",
    "\n",
    "        tuner.search(X_train_fold, y_train_fold, epochs=10, validation_data=(X_val_fold, y_val_fold))\n",
    "\n",
    "    # Resumo dos melhores hiperparâmetros encontrados\n",
    "    best_hps = tuner.get_best_hyperparameters(num_trials=1)[0]\n",
    "    print(f\"\"\"\n",
    "          A pesquisa de hiperparâmetros foi concluída. O número ideal de dimensões de incorporação é {best_hps.get('embedding_dim')},\n",
    "          o número ideal de unidades LSTM é {best_hps.get('lstm_units')}, e\n",
    "          o número ideal de unidades densas é {best_hps.get('dense_units')},\n",
    "          e a taxa de abandono ideal é {best_hps.get('dropout')}.\n",
    "    \"\"\")\n",
    "\n",
    "    return best_hps"
   ]
  },
  {
   "cell_type": "code",
   "execution_count": 38,
   "metadata": {
    "colab": {
     "base_uri": "https://localhost:8080/"
    },
    "id": "5VhSrvnQIQNI",
    "outputId": "4acc07c0-619e-4e13-d0e4-84466da244c2"
   },
   "outputs": [
    {
     "name": "stdout",
     "output_type": "stream",
     "text": [
      "Trial 10 Complete [00h 02m 00s]\n",
      "val_accuracy: 0.8687499761581421\n",
      "\n",
      "Best val_accuracy So Far: 0.8697395920753479\n",
      "Total elapsed time: 00h 12m 09s\n",
      "\n",
      "          A pesquisa de hiperparâmetros foi concluída. O número ideal de dimensões de incorporação é 96,\n",
      "          o número ideal de unidades LSTM é 64, e\n",
      "          o número ideal de unidades densas é 96,\n",
      "          e a taxa de abandono ideal é 0.2.\n",
      "    \n"
     ]
    }
   ],
   "source": [
    "best_hps = run_tuner(X_treino, y_treino)"
   ]
  },
  {
   "cell_type": "markdown",
   "metadata": {
    "id": "607wmRCGMCX6"
   },
   "source": [
    "## Vídeo 3.3 - Testando a rede"
   ]
  },
  {
   "cell_type": "code",
   "execution_count": 39,
   "metadata": {
    "id": "MMAZNzIMQTp8"
   },
   "outputs": [],
   "source": [
    "from sklearn.metrics import confusion_matrix, ConfusionMatrixDisplay"
   ]
  },
  {
   "cell_type": "code",
   "execution_count": 40,
   "metadata": {
    "id": "tX9t0XSBMKU5"
   },
   "outputs": [],
   "source": [
    "# Criar o modelo final usando os melhores hiperparâmetros\n",
    "final_model = tf.keras.Sequential([\n",
    "    encoder,\n",
    "    tf.keras.layers.Embedding(\n",
    "        input_dim=len(encoder.get_vocabulary()),\n",
    "        output_dim=best_hps.get('embedding_dim'),\n",
    "        mask_zero=True\n",
    "    ),\n",
    "    tf.keras.layers.Bidirectional(tf.keras.layers.LSTM(\n",
    "        units=best_hps.get('lstm_units'),\n",
    "        return_sequences=True\n",
    "    )),\n",
    "    tf.keras.layers.Bidirectional(tf.keras.layers.LSTM(\n",
    "        units=best_hps.get('lstm_units') // 2\n",
    "    )),\n",
    "    tf.keras.layers.Dense(\n",
    "        units=best_hps.get('dense_units'),\n",
    "        activation='relu'\n",
    "    ),\n",
    "    tf.keras.layers.Dropout(rate=best_hps.get('dropout')),\n",
    "    tf.keras.layers.Dense(4, activation='softmax')\n",
    "])\n"
   ]
  },
  {
   "cell_type": "code",
   "execution_count": 41,
   "metadata": {
    "id": "GNcV2uEUMKLw"
   },
   "outputs": [],
   "source": [
    "# Compilar o modelo final\n",
    "final_model.compile(optimizer='adam', loss='sparse_categorical_crossentropy', metrics=['accuracy'])"
   ]
  },
  {
   "cell_type": "code",
   "execution_count": 42,
   "metadata": {
    "id": "HJXF00vtMKEG"
   },
   "outputs": [
    {
     "name": "stdout",
     "output_type": "stream",
     "text": [
      "Epoch 1/10\n",
      "\u001b[1m3000/3000\u001b[0m \u001b[32m━━━━━━━━━━━━━━━━━━━━\u001b[0m\u001b[37m\u001b[0m \u001b[1m30s\u001b[0m 9ms/step - accuracy: 0.7744 - loss: 0.5834 - val_accuracy: 0.8616 - val_loss: 0.3888\n",
      "Epoch 2/10\n",
      "\u001b[1m3000/3000\u001b[0m \u001b[32m━━━━━━━━━━━━━━━━━━━━\u001b[0m\u001b[37m\u001b[0m \u001b[1m28s\u001b[0m 9ms/step - accuracy: 0.8624 - loss: 0.3862 - val_accuracy: 0.8695 - val_loss: 0.3645\n",
      "Epoch 3/10\n",
      "\u001b[1m3000/3000\u001b[0m \u001b[32m━━━━━━━━━━━━━━━━━━━━\u001b[0m\u001b[37m\u001b[0m \u001b[1m28s\u001b[0m 9ms/step - accuracy: 0.8752 - loss: 0.3455 - val_accuracy: 0.8609 - val_loss: 0.3846\n",
      "Epoch 4/10\n",
      "\u001b[1m3000/3000\u001b[0m \u001b[32m━━━━━━━━━━━━━━━━━━━━\u001b[0m\u001b[37m\u001b[0m \u001b[1m28s\u001b[0m 9ms/step - accuracy: 0.8819 - loss: 0.3300 - val_accuracy: 0.8737 - val_loss: 0.3543\n",
      "Epoch 5/10\n",
      "\u001b[1m3000/3000\u001b[0m \u001b[32m━━━━━━━━━━━━━━━━━━━━\u001b[0m\u001b[37m\u001b[0m \u001b[1m28s\u001b[0m 9ms/step - accuracy: 0.8922 - loss: 0.2985 - val_accuracy: 0.8737 - val_loss: 0.3515\n",
      "Epoch 6/10\n",
      "\u001b[1m3000/3000\u001b[0m \u001b[32m━━━━━━━━━━━━━━━━━━━━\u001b[0m\u001b[37m\u001b[0m \u001b[1m28s\u001b[0m 9ms/step - accuracy: 0.8981 - loss: 0.2793 - val_accuracy: 0.8738 - val_loss: 0.3532\n",
      "Epoch 7/10\n",
      "\u001b[1m3000/3000\u001b[0m \u001b[32m━━━━━━━━━━━━━━━━━━━━\u001b[0m\u001b[37m\u001b[0m \u001b[1m28s\u001b[0m 9ms/step - accuracy: 0.9061 - loss: 0.2535 - val_accuracy: 0.8763 - val_loss: 0.3579\n",
      "Epoch 8/10\n",
      "\u001b[1m3000/3000\u001b[0m \u001b[32m━━━━━━━━━━━━━━━━━━━━\u001b[0m\u001b[37m\u001b[0m \u001b[1m28s\u001b[0m 9ms/step - accuracy: 0.9141 - loss: 0.2320 - val_accuracy: 0.8725 - val_loss: 0.3691\n",
      "Epoch 9/10\n",
      "\u001b[1m3000/3000\u001b[0m \u001b[32m━━━━━━━━━━━━━━━━━━━━\u001b[0m\u001b[37m\u001b[0m \u001b[1m28s\u001b[0m 9ms/step - accuracy: 0.9246 - loss: 0.2054 - val_accuracy: 0.8711 - val_loss: 0.4020\n",
      "Epoch 10/10\n",
      "\u001b[1m3000/3000\u001b[0m \u001b[32m━━━━━━━━━━━━━━━━━━━━\u001b[0m\u001b[37m\u001b[0m \u001b[1m28s\u001b[0m 9ms/step - accuracy: 0.9312 - loss: 0.1844 - val_accuracy: 0.8716 - val_loss: 0.4119\n"
     ]
    },
    {
     "data": {
      "text/plain": [
       "<keras.src.callbacks.history.History at 0x7f68488c8970>"
      ]
     },
     "execution_count": 42,
     "metadata": {},
     "output_type": "execute_result"
    }
   ],
   "source": [
    "# Treinar o modelo final com todos os dados de treinamento\n",
    "final_model.fit(X_treino, y_treino, epochs=10, validation_data=(X_teste, y_teste))"
   ]
  },
  {
   "cell_type": "code",
   "execution_count": 43,
   "metadata": {
    "id": "6PCwzekQQHma"
   },
   "outputs": [
    {
     "name": "stdout",
     "output_type": "stream",
     "text": [
      "\u001b[1m750/750\u001b[0m \u001b[32m━━━━━━━━━━━━━━━━━━━━\u001b[0m\u001b[37m\u001b[0m \u001b[1m3s\u001b[0m 3ms/step\n"
     ]
    }
   ],
   "source": [
    "# Fazer previsões no conjunto de teste\n",
    "y_pred = final_model.predict(X_teste)\n",
    "y_pred_classes = y_pred.argmax(axis=1)"
   ]
  },
  {
   "cell_type": "code",
   "execution_count": 44,
   "metadata": {
    "id": "I_UOmtLxQMD5"
   },
   "outputs": [],
   "source": [
    "# Gerar a matriz de confusão\n",
    "conf_matrix = confusion_matrix(y_teste, y_pred_classes)"
   ]
  },
  {
   "cell_type": "code",
   "execution_count": 45,
   "metadata": {
    "id": "jYIXf5dkQPoZ"
   },
   "outputs": [
    {
     "data": {
      "image/png": "[encoded data removed]",
      "text/plain": [
       "<Figure size 640x480 with 2 Axes>"
      ]
     },
     "metadata": {},
     "output_type": "display_data"
    }
   ],
   "source": [
    "# Mostrar a matriz de confusão\n",
    "disp = ConfusionMatrixDisplay(confusion_matrix=conf_matrix, display_labels=[0, 1, 2, 3])\n",
    "disp.plot(cmap=plt.cm.Blues)\n",
    "plt.show()"
   ]
  }
 ],
 "metadata": {
  "accelerator": "GPU",
  "colab": {
   "gpuType": "T4",
   "provenance": []
  },
  "kernelspec": {
   "display_name": "Python 3",
   "language": "python",
   "name": "python3"
  },
  "language_info": {
   "codemirror_mode": {
    "name": "ipython",
    "version": 3
   },
   "file_extension": ".py",
   "mimetype": "text/x-python",
   "name": "python",
   "nbconvert_exporter": "python",
   "pygments_lexer": "ipython3",
   "version": "3.10.10"
  }
 },
 "nbformat": 4,
 "nbformat_minor": 4
}
