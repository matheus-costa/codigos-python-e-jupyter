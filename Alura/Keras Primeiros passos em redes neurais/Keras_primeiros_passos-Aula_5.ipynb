{
  "nbformat": 4,
  "nbformat_minor": 0,
  "metadata": {
    "colab": {
      "provenance": [],
      "collapsed_sections": [],
      "toc_visible": true
    },
    "kernelspec": {
      "name": "python3",
      "display_name": "Python 3"
    },
    "language_info": {
      "name": "python"
    }
  },
  "cells": [
    {
      "cell_type": "markdown",
      "source": [
        "# Keras: Redes Neurais"
      ],
      "metadata": {
        "id": "MswYJgE70_Tz"
      }
    },
    {
      "cell_type": "markdown",
      "source": [
        "O Iris dataset é um conjunto de dados bem conhecido na comunidade academica, esse conjunto de dados consiste em 50 amostras de cada uma das três espécies (150 amostras, no total) de Iris: *Iris setosa, Iris virginica e Iris versicolor*.\n",
        "\n",
        "Quatro variáveis foram medidas em cada amostra: o comprimento (*length*) e a largura (*width*) das sépalas (*Sepal*) e pétalas (*Petal*), em centímetros. Com base na combinação dessas quatro características, é possível distinguir as espécies umas das outras.\n",
        "\n",
        "![](https://kedro.readthedocs.io/en/0.17.5/_images/iris_measurements.png)\n",
        "\n",
        "Abaixo a representação dos três tipos de flores Iris.\n",
        "\n",
        "![](https://www.embedded-robotics.com/wp-content/uploads/2022/01/Iris-Dataset-Classification.png)"
      ],
      "metadata": {
        "id": "K8P8HnKQmgz4"
      }
    },
    {
      "cell_type": "markdown",
      "source": [
        "Iremos aprender como funciona um modelo neural e também construí-lo através da [**biblioteca Keras**](https://keras.io/)"
      ],
      "metadata": {
        "id": "VHD9R5Dq4VVS"
      }
    },
    {
      "cell_type": "code",
      "source": [
        "from tensorflow import keras"
      ],
      "metadata": {
        "id": "9LpaGjnjH_Sg"
      },
      "execution_count": null,
      "outputs": []
    },
    {
      "cell_type": "markdown",
      "source": [
        "## Modelo - Perceptron\n",
        "\n",
        "O [`keras.Sequential`](https://keras.io/api/models/sequential/) permite a criação de uma rede neural unindo camadas.\n",
        "\n",
        "A camada [`Dense`](https://keras.io/api/layers/core_layers/dense/) é uma camada definida no Keras que promove os cálculos e transformações utilizadas na criação de um modelo.\n",
        "\n",
        "Precisamos definir nela quantos neurônios ela conterá através do parâmetro `units` e podemos também definir a quantidade de entradas/características que os dados irão conter, para a implementação, vamos começar com dois."
      ],
      "metadata": {
        "id": "muv6prCFQxIw"
      }
    },
    {
      "cell_type": "code",
      "source": [
        "modelo = keras.Sequential([keras.layers.Dense(units=1,input_shape=[2],name='neuronio')])"
      ],
      "metadata": {
        "id": "aY-G5hPEDGG2"
      },
      "execution_count": null,
      "outputs": []
    },
    {
      "cell_type": "markdown",
      "source": [
        "**Explicação:**\n",
        "\n",
        "1. O `Sequential` cria um modelo muito simples (um dos mais simples no Keras) de redes neurais. Desse modo, é construida somente uma única pilha de camadas sequencialmente conectadas.\n",
        "2. A camada [`Dense`](https://www.tensorflow.org/api_docs/python/tf/keras/layers/Dense) é criada com 1 neurônio, representando o perceptron. A camada é responsável por cada peso contido nela bem como a inputação do vetor de viéses.\n",
        "  * `units`: informa a quantidade de neurônios que a camada Dense terá;\n",
        "  * `input_shape`: define a quantidade de entradas no modelo neural; e\n",
        "  * `name`: permite nomearmos essa camada."
      ],
      "metadata": {
        "id": "Gl9P-SLtUIoW"
      }
    },
    {
      "cell_type": "markdown",
      "source": [
        "### Utilidades do modelo"
      ],
      "metadata": {
        "id": "0HhGNRyt8Okr"
      }
    },
    {
      "cell_type": "markdown",
      "source": [
        "#### Estrutura\n",
        "Podemos entender a esturtura do modelo (perceptron) criado através do método [`summary`](https://keras.io/api/models/model/#:~:text=%5Bsource%5D-,summary%20method,-Model.summary) e a função [`utils.plot_model`](https://www.tensorflow.org/api_docs/python/tf/keras/utils/plot_model) da biblioteca keras."
      ],
      "metadata": {
        "id": "DhjM6r6KFFY-"
      }
    },
    {
      "cell_type": "code",
      "source": [
        "modelo.summary()"
      ],
      "metadata": {
        "id": "-APrEca8DHNt",
        "colab": {
          "base_uri": "https://localhost:8080/"
        },
        "outputId": "ed7c0dab-2a69-4734-d50a-f63c7f25d5f3"
      },
      "execution_count": null,
      "outputs": [
        {
          "output_type": "stream",
          "name": "stdout",
          "text": [
            "Model: \"sequential\"\n",
            "_________________________________________________________________\n",
            " Layer (type)                Output Shape              Param #   \n",
            "=================================================================\n",
            " neuronio (Dense)            (None, 1)                 3         \n",
            "                                                                 \n",
            "=================================================================\n",
            "Total params: 3\n",
            "Trainable params: 3\n",
            "Non-trainable params: 0\n",
            "_________________________________________________________________\n"
          ]
        }
      ]
    },
    {
      "cell_type": "markdown",
      "source": [
        "A única camada que temos é o próprio neurônio que criamos. O parâmetro dado nela é definido como 3 pois é considerado **a soma da quantidade de pesos mais a quantidade de viéses**.\n",
        "\n",
        "Os pesos são calculados multiplicando a quantidade de neurônios pela quantidade de entradas, desse modo, como definimos 2 entradas e 1 neurônio, teremos `2 * 1 = 2 pesos`, adicionadno o viés que é igual a quantidade de neurônios temos `2 + 1 = 3 parâmetros`."
      ],
      "metadata": {
        "id": "qi_3hgcSU3g2"
      }
    },
    {
      "cell_type": "code",
      "source": [
        "keras.utils.plot_model(modelo,show_shapes=True)"
      ],
      "metadata": {
        "id": "HDpl--c3DIUt",
        "colab": {
          "base_uri": "https://localhost:8080/",
          "height": 201
        },
        "outputId": "cad9a1ff-ac79-4210-f3f9-3280280d6044"
      },
      "execution_count": null,
      "outputs": [
        {
          "output_type": "execute_result",
          "data": {
            "image/png": "[encoded data removed]",
            "text/plain": [
              "<IPython.core.display.Image object>"
            ]
          },
          "metadata": {},
          "execution_count": 4
        }
      ]
    },
    {
      "cell_type": "markdown",
      "source": [
        "#### Pesos e viéses\n",
        "\n",
        "Para identificar os pesos e viés que o modelo vai inicializar, podemos utilizar o método [`get_weights()`](https://keras.io/api/layers/base_layer/#:~:text=%5Bsource%5D-,get_weights%20method,-Layer.get_weights) e o método [`layers`](https://keras.io/api/layers/base_layer/).\n",
        "\n",
        "* `layers`: retorna uma lista contendo as camadas do modelo criado;\n",
        "* `get_weights`: coleta os pesos e viéses da camada enviada como objeto e os retorna como lista."
      ],
      "metadata": {
        "id": "evTYaJuaK0ik"
      }
    },
    {
      "cell_type": "code",
      "source": [
        "modelo.layers"
      ],
      "metadata": {
        "id": "e4LZlmBiDJbO",
        "colab": {
          "base_uri": "https://localhost:8080/"
        },
        "outputId": "2cfc1fe9-1469-46f5-dab0-9115f184341a"
      },
      "execution_count": null,
      "outputs": [
        {
          "output_type": "execute_result",
          "data": {
            "text/plain": [
              "[<keras.layers.core.dense.Dense at 0x7f0746eefed0>]"
            ]
          },
          "metadata": {},
          "execution_count": 5
        }
      ]
    },
    {
      "cell_type": "code",
      "source": [
        "modelo.layers[0].get_weights()"
      ],
      "metadata": {
        "id": "e8sdrQlkDKhN",
        "colab": {
          "base_uri": "https://localhost:8080/"
        },
        "outputId": "6a9d3a97-d95c-4d3c-f449-fd6ea9e40637"
      },
      "execution_count": null,
      "outputs": [
        {
          "output_type": "execute_result",
          "data": {
            "text/plain": [
              "[array([[ 0.7341529],\n",
              "        [-1.0710735]], dtype=float32), array([0.], dtype=float32)]"
            ]
          },
          "metadata": {},
          "execution_count": 6
        }
      ]
    },
    {
      "cell_type": "code",
      "source": [
        "pesos,bias = modelo.layers[0].get_weights()\n",
        "print(pesos.shape)\n",
        "pesos"
      ],
      "metadata": {
        "colab": {
          "base_uri": "https://localhost:8080/"
        },
        "id": "z_fUblLQOnz6",
        "outputId": "06e2f8d7-06b0-4deb-b1e9-c48792a0b3f0"
      },
      "execution_count": null,
      "outputs": [
        {
          "output_type": "stream",
          "name": "stdout",
          "text": [
            "(2, 1)\n"
          ]
        },
        {
          "output_type": "execute_result",
          "data": {
            "text/plain": [
              "array([[ 0.7341529],\n",
              "       [-1.0710735]], dtype=float32)"
            ]
          },
          "metadata": {},
          "execution_count": 7
        }
      ]
    },
    {
      "cell_type": "code",
      "source": [
        "print(bias.shape)\n",
        "bias"
      ],
      "metadata": {
        "id": "Ldc0GTuODMAG",
        "colab": {
          "base_uri": "https://localhost:8080/"
        },
        "outputId": "ae6995e9-4b68-4dc8-9ba1-3a9e55411b31"
      },
      "execution_count": null,
      "outputs": [
        {
          "output_type": "stream",
          "name": "stdout",
          "text": [
            "(1,)\n"
          ]
        },
        {
          "output_type": "execute_result",
          "data": {
            "text/plain": [
              "array([0.], dtype=float32)"
            ]
          },
          "metadata": {},
          "execution_count": 8
        }
      ]
    },
    {
      "cell_type": "markdown",
      "source": [
        "##### Incializando"
      ],
      "metadata": {
        "id": "wt2K9dTAJO3N"
      }
    },
    {
      "cell_type": "markdown",
      "source": [
        "É possivel definir os pesos e viéses antes de criar o modelo, para isso utilizamos dois paramentros:\n",
        "\n",
        "* `kernel_initializer`: inicializa a matriz de pesos do modelo; e\n",
        "* `bias_initializer`: inicializa os valores de viéses.\n",
        "\n",
        "Para definir os pesos iniciais, utilizamos dois métodos de [`keras.initializers`](https://keras.io/api/layers/initializers/):\n",
        "\n",
        "* `keras.initializers.RandomNormal()`, para os pesos; e\n",
        "* `keras.initializers.Ones()`, para o bias."
      ],
      "metadata": {
        "id": "XLELKvFrXhzv"
      }
    },
    {
      "cell_type": "code",
      "source": [
        "modelo = keras.Sequential([keras.layers.Dense(units=1,input_shape=[2],name='neuronio',\n",
        "                                              kernel_initializer = keras.initializers.RandomNormal(),\n",
        "                                              bias_initializer = keras.initializers.Ones())])\n",
        "modelo.layers[0].get_weights()"
      ],
      "metadata": {
        "id": "6NybVwnjDNKt",
        "colab": {
          "base_uri": "https://localhost:8080/"
        },
        "outputId": "0ba75252-05fe-4023-f843-5315adcd8de3"
      },
      "execution_count": null,
      "outputs": [
        {
          "output_type": "execute_result",
          "data": {
            "text/plain": [
              "[array([[-0.00597523],\n",
              "        [-0.0426085 ]], dtype=float32), array([1.], dtype=float32)]"
            ]
          },
          "metadata": {},
          "execution_count": 9
        }
      ]
    },
    {
      "cell_type": "markdown",
      "source": [
        "## Dados"
      ],
      "metadata": {
        "id": "1YQJCdoULkda"
      }
    },
    {
      "cell_type": "markdown",
      "source": [
        "O Iris dataset é um conjunto de dados bem conhecido na comunidade academica, esse conjunto de dados consiste em 50 amostras de cada uma das três espécies (150 amostras, no total) de Iris: *Iris setosa, Iris virginica e Iris versicolor*.\n",
        "\n",
        "Quatro variáveis foram medidas em cada amostra: o comprimento (*length*) e a largura (*width*) das sépalas (*Sepal*) e pétalas (*Petal*), em centímetros. Com base na combinação dessas quatro características, é possível distinguir as espécies umas das outras.\n",
        "\n",
        "![](https://kedro.readthedocs.io/en/0.17.5/_images/iris_measurements.png)\n",
        "\n",
        "Abaixo a representação dos três tipos de flores Iris.\n",
        "\n",
        "![](https://www.embedded-robotics.com/wp-content/uploads/2022/01/Iris-Dataset-Classification.png)"
      ],
      "metadata": {
        "id": "7k8Ty0H9Tg4D"
      }
    },
    {
      "cell_type": "markdown",
      "source": [
        "### Importando os dados"
      ],
      "metadata": {
        "id": "zxWCoN5ssqmU"
      }
    },
    {
      "cell_type": "markdown",
      "source": [
        "É possivel realizar a coleta desse dataset através do método [`datasets`](https://scikit-learn.org/stable/modules/generated/sklearn.datasets.load_iris.html) da biblioteca `sklearn`."
      ],
      "metadata": {
        "id": "X9mKiELXpCNw"
      }
    },
    {
      "cell_type": "code",
      "source": [
        "from sklearn import datasets\n",
        "\n",
        "iris = datasets.load_iris(return_X_y = True)\n",
        "x = iris[0]\n",
        "y = iris[1]\n",
        "x"
      ],
      "metadata": {
        "id": "LGtpGDsGSjn7",
        "colab": {
          "base_uri": "https://localhost:8080/"
        },
        "outputId": "276639e2-4ae4-4e7b-8140-b8608aefb601"
      },
      "execution_count": null,
      "outputs": [
        {
          "output_type": "execute_result",
          "data": {
            "text/plain": [
              "array([[5.1, 3.5, 1.4, 0.2],\n",
              "       [4.9, 3. , 1.4, 0.2],\n",
              "       [4.7, 3.2, 1.3, 0.2],\n",
              "       [4.6, 3.1, 1.5, 0.2],\n",
              "       [5. , 3.6, 1.4, 0.2],\n",
              "       [5.4, 3.9, 1.7, 0.4],\n",
              "       [4.6, 3.4, 1.4, 0.3],\n",
              "       [5. , 3.4, 1.5, 0.2],\n",
              "       [4.4, 2.9, 1.4, 0.2],\n",
              "       [4.9, 3.1, 1.5, 0.1],\n",
              "       [5.4, 3.7, 1.5, 0.2],\n",
              "       [4.8, 3.4, 1.6, 0.2],\n",
              "       [4.8, 3. , 1.4, 0.1],\n",
              "       [4.3, 3. , 1.1, 0.1],\n",
              "       [5.8, 4. , 1.2, 0.2],\n",
              "       [5.7, 4.4, 1.5, 0.4],\n",
              "       [5.4, 3.9, 1.3, 0.4],\n",
              "       [5.1, 3.5, 1.4, 0.3],\n",
              "       [5.7, 3.8, 1.7, 0.3],\n",
              "       [5.1, 3.8, 1.5, 0.3],\n",
              "       [5.4, 3.4, 1.7, 0.2],\n",
              "       [5.1, 3.7, 1.5, 0.4],\n",
              "       [4.6, 3.6, 1. , 0.2],\n",
              "       [5.1, 3.3, 1.7, 0.5],\n",
              "       [4.8, 3.4, 1.9, 0.2],\n",
              "       [5. , 3. , 1.6, 0.2],\n",
              "       [5. , 3.4, 1.6, 0.4],\n",
              "       [5.2, 3.5, 1.5, 0.2],\n",
              "       [5.2, 3.4, 1.4, 0.2],\n",
              "       [4.7, 3.2, 1.6, 0.2],\n",
              "       [4.8, 3.1, 1.6, 0.2],\n",
              "       [5.4, 3.4, 1.5, 0.4],\n",
              "       [5.2, 4.1, 1.5, 0.1],\n",
              "       [5.5, 4.2, 1.4, 0.2],\n",
              "       [4.9, 3.1, 1.5, 0.2],\n",
              "       [5. , 3.2, 1.2, 0.2],\n",
              "       [5.5, 3.5, 1.3, 0.2],\n",
              "       [4.9, 3.6, 1.4, 0.1],\n",
              "       [4.4, 3. , 1.3, 0.2],\n",
              "       [5.1, 3.4, 1.5, 0.2],\n",
              "       [5. , 3.5, 1.3, 0.3],\n",
              "       [4.5, 2.3, 1.3, 0.3],\n",
              "       [4.4, 3.2, 1.3, 0.2],\n",
              "       [5. , 3.5, 1.6, 0.6],\n",
              "       [5.1, 3.8, 1.9, 0.4],\n",
              "       [4.8, 3. , 1.4, 0.3],\n",
              "       [5.1, 3.8, 1.6, 0.2],\n",
              "       [4.6, 3.2, 1.4, 0.2],\n",
              "       [5.3, 3.7, 1.5, 0.2],\n",
              "       [5. , 3.3, 1.4, 0.2],\n",
              "       [7. , 3.2, 4.7, 1.4],\n",
              "       [6.4, 3.2, 4.5, 1.5],\n",
              "       [6.9, 3.1, 4.9, 1.5],\n",
              "       [5.5, 2.3, 4. , 1.3],\n",
              "       [6.5, 2.8, 4.6, 1.5],\n",
              "       [5.7, 2.8, 4.5, 1.3],\n",
              "       [6.3, 3.3, 4.7, 1.6],\n",
              "       [4.9, 2.4, 3.3, 1. ],\n",
              "       [6.6, 2.9, 4.6, 1.3],\n",
              "       [5.2, 2.7, 3.9, 1.4],\n",
              "       [5. , 2. , 3.5, 1. ],\n",
              "       [5.9, 3. , 4.2, 1.5],\n",
              "       [6. , 2.2, 4. , 1. ],\n",
              "       [6.1, 2.9, 4.7, 1.4],\n",
              "       [5.6, 2.9, 3.6, 1.3],\n",
              "       [6.7, 3.1, 4.4, 1.4],\n",
              "       [5.6, 3. , 4.5, 1.5],\n",
              "       [5.8, 2.7, 4.1, 1. ],\n",
              "       [6.2, 2.2, 4.5, 1.5],\n",
              "       [5.6, 2.5, 3.9, 1.1],\n",
              "       [5.9, 3.2, 4.8, 1.8],\n",
              "       [6.1, 2.8, 4. , 1.3],\n",
              "       [6.3, 2.5, 4.9, 1.5],\n",
              "       [6.1, 2.8, 4.7, 1.2],\n",
              "       [6.4, 2.9, 4.3, 1.3],\n",
              "       [6.6, 3. , 4.4, 1.4],\n",
              "       [6.8, 2.8, 4.8, 1.4],\n",
              "       [6.7, 3. , 5. , 1.7],\n",
              "       [6. , 2.9, 4.5, 1.5],\n",
              "       [5.7, 2.6, 3.5, 1. ],\n",
              "       [5.5, 2.4, 3.8, 1.1],\n",
              "       [5.5, 2.4, 3.7, 1. ],\n",
              "       [5.8, 2.7, 3.9, 1.2],\n",
              "       [6. , 2.7, 5.1, 1.6],\n",
              "       [5.4, 3. , 4.5, 1.5],\n",
              "       [6. , 3.4, 4.5, 1.6],\n",
              "       [6.7, 3.1, 4.7, 1.5],\n",
              "       [6.3, 2.3, 4.4, 1.3],\n",
              "       [5.6, 3. , 4.1, 1.3],\n",
              "       [5.5, 2.5, 4. , 1.3],\n",
              "       [5.5, 2.6, 4.4, 1.2],\n",
              "       [6.1, 3. , 4.6, 1.4],\n",
              "       [5.8, 2.6, 4. , 1.2],\n",
              "       [5. , 2.3, 3.3, 1. ],\n",
              "       [5.6, 2.7, 4.2, 1.3],\n",
              "       [5.7, 3. , 4.2, 1.2],\n",
              "       [5.7, 2.9, 4.2, 1.3],\n",
              "       [6.2, 2.9, 4.3, 1.3],\n",
              "       [5.1, 2.5, 3. , 1.1],\n",
              "       [5.7, 2.8, 4.1, 1.3],\n",
              "       [6.3, 3.3, 6. , 2.5],\n",
              "       [5.8, 2.7, 5.1, 1.9],\n",
              "       [7.1, 3. , 5.9, 2.1],\n",
              "       [6.3, 2.9, 5.6, 1.8],\n",
              "       [6.5, 3. , 5.8, 2.2],\n",
              "       [7.6, 3. , 6.6, 2.1],\n",
              "       [4.9, 2.5, 4.5, 1.7],\n",
              "       [7.3, 2.9, 6.3, 1.8],\n",
              "       [6.7, 2.5, 5.8, 1.8],\n",
              "       [7.2, 3.6, 6.1, 2.5],\n",
              "       [6.5, 3.2, 5.1, 2. ],\n",
              "       [6.4, 2.7, 5.3, 1.9],\n",
              "       [6.8, 3. , 5.5, 2.1],\n",
              "       [5.7, 2.5, 5. , 2. ],\n",
              "       [5.8, 2.8, 5.1, 2.4],\n",
              "       [6.4, 3.2, 5.3, 2.3],\n",
              "       [6.5, 3. , 5.5, 1.8],\n",
              "       [7.7, 3.8, 6.7, 2.2],\n",
              "       [7.7, 2.6, 6.9, 2.3],\n",
              "       [6. , 2.2, 5. , 1.5],\n",
              "       [6.9, 3.2, 5.7, 2.3],\n",
              "       [5.6, 2.8, 4.9, 2. ],\n",
              "       [7.7, 2.8, 6.7, 2. ],\n",
              "       [6.3, 2.7, 4.9, 1.8],\n",
              "       [6.7, 3.3, 5.7, 2.1],\n",
              "       [7.2, 3.2, 6. , 1.8],\n",
              "       [6.2, 2.8, 4.8, 1.8],\n",
              "       [6.1, 3. , 4.9, 1.8],\n",
              "       [6.4, 2.8, 5.6, 2.1],\n",
              "       [7.2, 3. , 5.8, 1.6],\n",
              "       [7.4, 2.8, 6.1, 1.9],\n",
              "       [7.9, 3.8, 6.4, 2. ],\n",
              "       [6.4, 2.8, 5.6, 2.2],\n",
              "       [6.3, 2.8, 5.1, 1.5],\n",
              "       [6.1, 2.6, 5.6, 1.4],\n",
              "       [7.7, 3. , 6.1, 2.3],\n",
              "       [6.3, 3.4, 5.6, 2.4],\n",
              "       [6.4, 3.1, 5.5, 1.8],\n",
              "       [6. , 3. , 4.8, 1.8],\n",
              "       [6.9, 3.1, 5.4, 2.1],\n",
              "       [6.7, 3.1, 5.6, 2.4],\n",
              "       [6.9, 3.1, 5.1, 2.3],\n",
              "       [5.8, 2.7, 5.1, 1.9],\n",
              "       [6.8, 3.2, 5.9, 2.3],\n",
              "       [6.7, 3.3, 5.7, 2.5],\n",
              "       [6.7, 3. , 5.2, 2.3],\n",
              "       [6.3, 2.5, 5. , 1.9],\n",
              "       [6.5, 3. , 5.2, 2. ],\n",
              "       [6.2, 3.4, 5.4, 2.3],\n",
              "       [5.9, 3. , 5.1, 1.8]])"
            ]
          },
          "metadata": {},
          "execution_count": 10
        }
      ]
    },
    {
      "cell_type": "code",
      "source": [
        "datasets.load_iris()['feature_names']"
      ],
      "metadata": {
        "id": "16afb0R7ShQr",
        "colab": {
          "base_uri": "https://localhost:8080/"
        },
        "outputId": "93334499-e4e1-4f42-c813-40c2ca1ec870"
      },
      "execution_count": null,
      "outputs": [
        {
          "output_type": "execute_result",
          "data": {
            "text/plain": [
              "['sepal length (cm)',\n",
              " 'sepal width (cm)',\n",
              " 'petal length (cm)',\n",
              " 'petal width (cm)']"
            ]
          },
          "metadata": {},
          "execution_count": 11
        }
      ]
    },
    {
      "cell_type": "code",
      "source": [
        "y"
      ],
      "metadata": {
        "id": "PWYIbT6_SgXi",
        "colab": {
          "base_uri": "https://localhost:8080/"
        },
        "outputId": "0ffe121d-eef8-4844-ae84-136068856d4e"
      },
      "execution_count": null,
      "outputs": [
        {
          "output_type": "execute_result",
          "data": {
            "text/plain": [
              "array([0, 0, 0, 0, 0, 0, 0, 0, 0, 0, 0, 0, 0, 0, 0, 0, 0, 0, 0, 0, 0, 0,\n",
              "       0, 0, 0, 0, 0, 0, 0, 0, 0, 0, 0, 0, 0, 0, 0, 0, 0, 0, 0, 0, 0, 0,\n",
              "       0, 0, 0, 0, 0, 0, 1, 1, 1, 1, 1, 1, 1, 1, 1, 1, 1, 1, 1, 1, 1, 1,\n",
              "       1, 1, 1, 1, 1, 1, 1, 1, 1, 1, 1, 1, 1, 1, 1, 1, 1, 1, 1, 1, 1, 1,\n",
              "       1, 1, 1, 1, 1, 1, 1, 1, 1, 1, 1, 1, 2, 2, 2, 2, 2, 2, 2, 2, 2, 2,\n",
              "       2, 2, 2, 2, 2, 2, 2, 2, 2, 2, 2, 2, 2, 2, 2, 2, 2, 2, 2, 2, 2, 2,\n",
              "       2, 2, 2, 2, 2, 2, 2, 2, 2, 2, 2, 2, 2, 2, 2, 2, 2, 2])"
            ]
          },
          "metadata": {},
          "execution_count": 12
        }
      ]
    },
    {
      "cell_type": "code",
      "source": [
        "datasets.load_iris()['target_names']"
      ],
      "metadata": {
        "id": "O18Yg4lbSfLD",
        "colab": {
          "base_uri": "https://localhost:8080/"
        },
        "outputId": "c3ba64e3-a4e3-4d99-f2aa-4601104e8d03"
      },
      "execution_count": null,
      "outputs": [
        {
          "output_type": "execute_result",
          "data": {
            "text/plain": [
              "array(['setosa', 'versicolor', 'virginica'], dtype='<U10')"
            ]
          },
          "metadata": {},
          "execution_count": 13
        }
      ]
    },
    {
      "cell_type": "code",
      "source": [
        "import matplotlib.pyplot as plt\n",
        "import seaborn as sns\n",
        "\n",
        "sns.scatterplot(x=x[:,2],y=x[:,3],hue=y,palette='tab10')\n",
        "plt.xlabel('comprimento (cm)',fontsize =16)\n",
        "plt.ylabel('largura (cm)', fontsize=16)\n",
        "plt.title('Distribuição pétalas', fontsize = 18)\n",
        "plt.show()"
      ],
      "metadata": {
        "id": "8RtcDyDDSmD7",
        "colab": {
          "base_uri": "https://localhost:8080/",
          "height": 305
        },
        "outputId": "e8cf70f1-d531-44a6-8eeb-5230f8418bc1"
      },
      "execution_count": null,
      "outputs": [
        {
          "output_type": "display_data",
          "data": {
            "text/plain": [
              "<Figure size 432x288 with 1 Axes>"
            ],
            "image/png": "[encoded data removed]"
          },
          "metadata": {
            "needs_background": "light"
          }
        }
      ]
    },
    {
      "cell_type": "code",
      "source": [
        "sns.scatterplot(x = x[:,0], y = x[:,1], hue = y, palette = \"tab10\")\n",
        "plt.xlabel('comprimeto (cm)', fontsize = 16)\n",
        "plt.ylabel('largura (cm)', fontsize = 16)\n",
        "plt.title('Distribuição sépalas', fontsize = 18)\n",
        "plt.show()"
      ],
      "metadata": {
        "id": "yZ7H4WUVSpPk",
        "colab": {
          "base_uri": "https://localhost:8080/",
          "height": 305
        },
        "outputId": "383856cb-8867-47d8-8413-a5c7f20a20f1"
      },
      "execution_count": null,
      "outputs": [
        {
          "output_type": "display_data",
          "data": {
            "text/plain": [
              "<Figure size 432x288 with 1 Axes>"
            ],
            "image/png": "[encoded data removed]"
          },
          "metadata": {
            "needs_background": "light"
          }
        }
      ]
    },
    {
      "cell_type": "markdown",
      "source": [
        "### Tratamento"
      ],
      "metadata": {
        "id": "lUbXWgdpmcVr"
      }
    },
    {
      "cell_type": "markdown",
      "source": [
        "#### Categorização"
      ],
      "metadata": {
        "id": "zEcmmwllb7Fa"
      }
    },
    {
      "cell_type": "code",
      "source": [
        "y.shape"
      ],
      "metadata": {
        "colab": {
          "base_uri": "https://localhost:8080/"
        },
        "id": "pUQswBETSz5D",
        "outputId": "a16c5e13-ddcc-42c5-8757-bdedc602a68f"
      },
      "execution_count": null,
      "outputs": [
        {
          "output_type": "execute_result",
          "data": {
            "text/plain": [
              "(150,)"
            ]
          },
          "metadata": {},
          "execution_count": 16
        }
      ]
    },
    {
      "cell_type": "code",
      "source": [
        "y = keras.utils.to_categorical(y)\n",
        "y.shape"
      ],
      "metadata": {
        "colab": {
          "base_uri": "https://localhost:8080/"
        },
        "id": "dFHgxNv3S2z7",
        "outputId": "678b9144-177f-4ed8-a6a2-ed89938a3107"
      },
      "execution_count": null,
      "outputs": [
        {
          "output_type": "execute_result",
          "data": {
            "text/plain": [
              "(150, 3)"
            ]
          },
          "metadata": {},
          "execution_count": 17
        }
      ]
    },
    {
      "cell_type": "code",
      "source": [
        "y"
      ],
      "metadata": {
        "colab": {
          "base_uri": "https://localhost:8080/"
        },
        "id": "SGQacVmKS2rz",
        "outputId": "13a64c2b-1a69-425e-f81b-17b97182ed58"
      },
      "execution_count": null,
      "outputs": [
        {
          "output_type": "execute_result",
          "data": {
            "text/plain": [
              "array([[1., 0., 0.],\n",
              "       [1., 0., 0.],\n",
              "       [1., 0., 0.],\n",
              "       [1., 0., 0.],\n",
              "       [1., 0., 0.],\n",
              "       [1., 0., 0.],\n",
              "       [1., 0., 0.],\n",
              "       [1., 0., 0.],\n",
              "       [1., 0., 0.],\n",
              "       [1., 0., 0.],\n",
              "       [1., 0., 0.],\n",
              "       [1., 0., 0.],\n",
              "       [1., 0., 0.],\n",
              "       [1., 0., 0.],\n",
              "       [1., 0., 0.],\n",
              "       [1., 0., 0.],\n",
              "       [1., 0., 0.],\n",
              "       [1., 0., 0.],\n",
              "       [1., 0., 0.],\n",
              "       [1., 0., 0.],\n",
              "       [1., 0., 0.],\n",
              "       [1., 0., 0.],\n",
              "       [1., 0., 0.],\n",
              "       [1., 0., 0.],\n",
              "       [1., 0., 0.],\n",
              "       [1., 0., 0.],\n",
              "       [1., 0., 0.],\n",
              "       [1., 0., 0.],\n",
              "       [1., 0., 0.],\n",
              "       [1., 0., 0.],\n",
              "       [1., 0., 0.],\n",
              "       [1., 0., 0.],\n",
              "       [1., 0., 0.],\n",
              "       [1., 0., 0.],\n",
              "       [1., 0., 0.],\n",
              "       [1., 0., 0.],\n",
              "       [1., 0., 0.],\n",
              "       [1., 0., 0.],\n",
              "       [1., 0., 0.],\n",
              "       [1., 0., 0.],\n",
              "       [1., 0., 0.],\n",
              "       [1., 0., 0.],\n",
              "       [1., 0., 0.],\n",
              "       [1., 0., 0.],\n",
              "       [1., 0., 0.],\n",
              "       [1., 0., 0.],\n",
              "       [1., 0., 0.],\n",
              "       [1., 0., 0.],\n",
              "       [1., 0., 0.],\n",
              "       [1., 0., 0.],\n",
              "       [0., 1., 0.],\n",
              "       [0., 1., 0.],\n",
              "       [0., 1., 0.],\n",
              "       [0., 1., 0.],\n",
              "       [0., 1., 0.],\n",
              "       [0., 1., 0.],\n",
              "       [0., 1., 0.],\n",
              "       [0., 1., 0.],\n",
              "       [0., 1., 0.],\n",
              "       [0., 1., 0.],\n",
              "       [0., 1., 0.],\n",
              "       [0., 1., 0.],\n",
              "       [0., 1., 0.],\n",
              "       [0., 1., 0.],\n",
              "       [0., 1., 0.],\n",
              "       [0., 1., 0.],\n",
              "       [0., 1., 0.],\n",
              "       [0., 1., 0.],\n",
              "       [0., 1., 0.],\n",
              "       [0., 1., 0.],\n",
              "       [0., 1., 0.],\n",
              "       [0., 1., 0.],\n",
              "       [0., 1., 0.],\n",
              "       [0., 1., 0.],\n",
              "       [0., 1., 0.],\n",
              "       [0., 1., 0.],\n",
              "       [0., 1., 0.],\n",
              "       [0., 1., 0.],\n",
              "       [0., 1., 0.],\n",
              "       [0., 1., 0.],\n",
              "       [0., 1., 0.],\n",
              "       [0., 1., 0.],\n",
              "       [0., 1., 0.],\n",
              "       [0., 1., 0.],\n",
              "       [0., 1., 0.],\n",
              "       [0., 1., 0.],\n",
              "       [0., 1., 0.],\n",
              "       [0., 1., 0.],\n",
              "       [0., 1., 0.],\n",
              "       [0., 1., 0.],\n",
              "       [0., 1., 0.],\n",
              "       [0., 1., 0.],\n",
              "       [0., 1., 0.],\n",
              "       [0., 1., 0.],\n",
              "       [0., 1., 0.],\n",
              "       [0., 1., 0.],\n",
              "       [0., 1., 0.],\n",
              "       [0., 1., 0.],\n",
              "       [0., 1., 0.],\n",
              "       [0., 1., 0.],\n",
              "       [0., 0., 1.],\n",
              "       [0., 0., 1.],\n",
              "       [0., 0., 1.],\n",
              "       [0., 0., 1.],\n",
              "       [0., 0., 1.],\n",
              "       [0., 0., 1.],\n",
              "       [0., 0., 1.],\n",
              "       [0., 0., 1.],\n",
              "       [0., 0., 1.],\n",
              "       [0., 0., 1.],\n",
              "       [0., 0., 1.],\n",
              "       [0., 0., 1.],\n",
              "       [0., 0., 1.],\n",
              "       [0., 0., 1.],\n",
              "       [0., 0., 1.],\n",
              "       [0., 0., 1.],\n",
              "       [0., 0., 1.],\n",
              "       [0., 0., 1.],\n",
              "       [0., 0., 1.],\n",
              "       [0., 0., 1.],\n",
              "       [0., 0., 1.],\n",
              "       [0., 0., 1.],\n",
              "       [0., 0., 1.],\n",
              "       [0., 0., 1.],\n",
              "       [0., 0., 1.],\n",
              "       [0., 0., 1.],\n",
              "       [0., 0., 1.],\n",
              "       [0., 0., 1.],\n",
              "       [0., 0., 1.],\n",
              "       [0., 0., 1.],\n",
              "       [0., 0., 1.],\n",
              "       [0., 0., 1.],\n",
              "       [0., 0., 1.],\n",
              "       [0., 0., 1.],\n",
              "       [0., 0., 1.],\n",
              "       [0., 0., 1.],\n",
              "       [0., 0., 1.],\n",
              "       [0., 0., 1.],\n",
              "       [0., 0., 1.],\n",
              "       [0., 0., 1.],\n",
              "       [0., 0., 1.],\n",
              "       [0., 0., 1.],\n",
              "       [0., 0., 1.],\n",
              "       [0., 0., 1.],\n",
              "       [0., 0., 1.],\n",
              "       [0., 0., 1.],\n",
              "       [0., 0., 1.],\n",
              "       [0., 0., 1.],\n",
              "       [0., 0., 1.],\n",
              "       [0., 0., 1.]], dtype=float32)"
            ]
          },
          "metadata": {},
          "execution_count": 18
        }
      ]
    },
    {
      "cell_type": "markdown",
      "source": [
        "#### Normalização\n",
        "\n",
        "Os dados serão normalizados entre [0, 1], para isso utilizamos o método [`MinMaxScaler`](https://scikit-learn.org/stable/modules/generated/sklearn.preprocessing.MinMaxScaler)"
      ],
      "metadata": {
        "id": "HvXqF0mjcA6T"
      }
    },
    {
      "cell_type": "code",
      "source": [
        "from sklearn.preprocessing import MinMaxScaler\n",
        "\n",
        "scaler = MinMaxScaler()\n",
        "x = scaler.fit_transform(x)"
      ],
      "metadata": {
        "id": "y28uOZ_US5Qr"
      },
      "execution_count": null,
      "outputs": []
    },
    {
      "cell_type": "markdown",
      "source": [
        "#### Separação de conjunto\n",
        "\n",
        "A separação em conjuntos de treino e teste garantem um melhor processo de criação do modelo. Esses conjuntos são definidos a partir do conjunto total de dados, o qual separameos por proporções:\n",
        "\n",
        "* **80%** - Treino\n",
        "* **20%** - Teste"
      ],
      "metadata": {
        "id": "4gFxAbq-B0fI"
      }
    },
    {
      "cell_type": "code",
      "source": [
        "from sklearn.model_selection import train_test_split\n",
        "\n",
        "x_treino, x_teste, y_treino, y_teste = train_test_split(x, y, test_size = 0.2, stratify = y, random_state=42)"
      ],
      "metadata": {
        "id": "z1iBBPkBS7vz"
      },
      "execution_count": null,
      "outputs": []
    },
    {
      "cell_type": "code",
      "source": [
        "x_treino.shape"
      ],
      "metadata": {
        "colab": {
          "base_uri": "https://localhost:8080/"
        },
        "id": "EVuEKBSpS7Uc",
        "outputId": "559ac57b-4bd8-4a97-cd57-e0d4355f596a"
      },
      "execution_count": null,
      "outputs": [
        {
          "output_type": "execute_result",
          "data": {
            "text/plain": [
              "(120, 4)"
            ]
          },
          "metadata": {},
          "execution_count": 21
        }
      ]
    },
    {
      "cell_type": "code",
      "source": [
        "x_teste.shape"
      ],
      "metadata": {
        "colab": {
          "base_uri": "https://localhost:8080/"
        },
        "id": "GhpH7VluS7NE",
        "outputId": "8cb13774-9456-4b46-b88f-6fc99e2ebb46"
      },
      "execution_count": null,
      "outputs": [
        {
          "output_type": "execute_result",
          "data": {
            "text/plain": [
              "(30, 4)"
            ]
          },
          "metadata": {},
          "execution_count": 22
        }
      ]
    },
    {
      "cell_type": "markdown",
      "source": [
        "## Modelo - MLP"
      ],
      "metadata": {
        "id": "BMS-65LusijP"
      }
    },
    {
      "cell_type": "markdown",
      "source": [
        "### Criação do modelo\n",
        "\n",
        "Fazemos um modelo MLP definido por 1 camada de entrada, 1 camada oculta e 1 camada de saída."
      ],
      "metadata": {
        "id": "ybG-0Kju1KiI"
      }
    },
    {
      "cell_type": "code",
      "source": [
        "modelo = keras.Sequential([keras.layers.InputLayer(input_shape=[4,],name='entrada'),\n",
        "                           keras.layers.Dense(512,activation='relu',name='oculta',\n",
        "                                              kernel_initializer=keras.initializers.RandomNormal(seed=142)),\n",
        "                           keras.layers.Dense(3,activation='softmax',name='saida')])"
      ],
      "metadata": {
        "id": "1KQzZhW124Cv"
      },
      "execution_count": null,
      "outputs": []
    },
    {
      "cell_type": "code",
      "source": [
        "modelo.summary()"
      ],
      "metadata": {
        "colab": {
          "base_uri": "https://localhost:8080/"
        },
        "id": "uBbFH6NB23xY",
        "outputId": "d1a7d8fd-2f75-4845-c5a4-b4ee5298bfef"
      },
      "execution_count": null,
      "outputs": [
        {
          "output_type": "stream",
          "name": "stdout",
          "text": [
            "Model: \"sequential_2\"\n",
            "_________________________________________________________________\n",
            " Layer (type)                Output Shape              Param #   \n",
            "=================================================================\n",
            " oculta (Dense)              (None, 512)               2560      \n",
            "                                                                 \n",
            " saida (Dense)               (None, 3)                 1539      \n",
            "                                                                 \n",
            "=================================================================\n",
            "Total params: 4,099\n",
            "Trainable params: 4,099\n",
            "Non-trainable params: 0\n",
            "_________________________________________________________________\n"
          ]
        }
      ]
    },
    {
      "cell_type": "markdown",
      "source": [
        "### Treinamento"
      ],
      "metadata": {
        "id": "Qj3CF2Au2KyD"
      }
    },
    {
      "cell_type": "markdown",
      "source": [
        "#### Compilando o modelo\n",
        "\n",
        "Compilar o modelo se dá pelo método [`compile`](https://keras.io/api/models/model_training_apis/). Nessa etapa devemos especificar a função de perda e o otimizador a ser usado. Uma opção também é especificar as métricas a serem calculadas durante o treinamento e avaliação do modelo."
      ],
      "metadata": {
        "id": "08Vvd91Rcgfs"
      }
    },
    {
      "cell_type": "code",
      "source": [
        "modelo.compile(loss = 'categorical_crossentropy',\n",
        "               optimizer = 'rmsprop',\n",
        "               metrics = ['categorical_accuracy'])"
      ],
      "metadata": {
        "id": "krc0gV4B1-FS"
      },
      "execution_count": null,
      "outputs": []
    },
    {
      "cell_type": "markdown",
      "source": [
        "**Explicação:**\n",
        "\n",
        "1. A perda escolhida foi a `'categorical_crossentropy'` pois os resultads em y são valores categóricos.\n",
        "2. O uso do otimizador `'rmsprop'` indica que iremos treinar o modelo baseado em gradiente descendente, que calcula a média móvel de gradientes quadrados para normalizar o gradiente (processo de retropropagação será aplicado ao realizar o treinamento).\n",
        "3. Por esse modelo ser um classificador simples, é interessante calcular o valor da acurácia durante o treino e validação."
      ],
      "metadata": {
        "id": "4WF6jy7Pmfzf"
      }
    },
    {
      "cell_type": "markdown",
      "source": [
        "#### Treino\n",
        "\n",
        "O treinamento é feito com o método `fit`, sendo especificado as entredas e saídas esperadas de treino, épocas e também os dados de validação."
      ],
      "metadata": {
        "id": "2_iPYpyZcjLn"
      }
    },
    {
      "cell_type": "markdown",
      "source": [
        "**Explicação:**\n",
        "\n",
        "1. Para treinamento é preciso passar os dados de entradas e saídas do conjunto de treinamento.\n",
        "2. Nesse caso o número de épocas também é essencial pois o padrão da biblioteca é 1 época, o que não é tão bom para o aprendizado.\n",
        "3. Passamos também a porcentagem do conjunto de validação para serem considerados do conjunto de treino - 30% do conjunto de treino"
      ],
      "metadata": {
        "id": "rEsIX9i-mtIe"
      }
    },
    {
      "cell_type": "code",
      "source": [
        "epocas=100\n",
        "historico = modelo.fit(x_treino,y_treino,\n",
        "           epochs=epocas,\n",
        "           validation_split=0.3)"
      ],
      "metadata": {
        "colab": {
          "base_uri": "https://localhost:8080/"
        },
        "id": "Iy457isk18so",
        "outputId": "4d6e84c8-fc73-4ab0-c586-3a2e28a1267c"
      },
      "execution_count": null,
      "outputs": [
        {
          "output_type": "stream",
          "name": "stdout",
          "text": [
            "Epoch 1/100\n",
            "3/3 [==============================] - 1s 118ms/step - loss: 1.0794 - categorical_accuracy: 0.5357 - val_loss: 1.0252 - val_categorical_accuracy: 0.6389\n",
            "Epoch 2/100\n",
            "3/3 [==============================] - 0s 19ms/step - loss: 0.9975 - categorical_accuracy: 0.6786 - val_loss: 0.9754 - val_categorical_accuracy: 0.6389\n",
            "Epoch 3/100\n",
            "3/3 [==============================] - 0s 15ms/step - loss: 0.9461 - categorical_accuracy: 0.6786 - val_loss: 0.9336 - val_categorical_accuracy: 0.6389\n",
            "Epoch 4/100\n",
            "3/3 [==============================] - 0s 15ms/step - loss: 0.9043 - categorical_accuracy: 0.6786 - val_loss: 0.9008 - val_categorical_accuracy: 0.6389\n",
            "Epoch 5/100\n",
            "3/3 [==============================] - 0s 19ms/step - loss: 0.8645 - categorical_accuracy: 0.6786 - val_loss: 0.8661 - val_categorical_accuracy: 0.6389\n",
            "Epoch 6/100\n",
            "3/3 [==============================] - 0s 19ms/step - loss: 0.8293 - categorical_accuracy: 0.6786 - val_loss: 0.8362 - val_categorical_accuracy: 0.6389\n",
            "Epoch 7/100\n",
            "3/3 [==============================] - 0s 17ms/step - loss: 0.7963 - categorical_accuracy: 0.6786 - val_loss: 0.8046 - val_categorical_accuracy: 0.6389\n",
            "Epoch 8/100\n",
            "3/3 [==============================] - 0s 17ms/step - loss: 0.7652 - categorical_accuracy: 0.6786 - val_loss: 0.7790 - val_categorical_accuracy: 0.6389\n",
            "Epoch 9/100\n",
            "3/3 [==============================] - 0s 17ms/step - loss: 0.7352 - categorical_accuracy: 0.6786 - val_loss: 0.7511 - val_categorical_accuracy: 0.6389\n",
            "Epoch 10/100\n",
            "3/3 [==============================] - 0s 18ms/step - loss: 0.7063 - categorical_accuracy: 0.6786 - val_loss: 0.7264 - val_categorical_accuracy: 0.6389\n",
            "Epoch 11/100\n",
            "3/3 [==============================] - 0s 17ms/step - loss: 0.6804 - categorical_accuracy: 0.6786 - val_loss: 0.7041 - val_categorical_accuracy: 0.6389\n",
            "Epoch 12/100\n",
            "3/3 [==============================] - 0s 15ms/step - loss: 0.6559 - categorical_accuracy: 0.6786 - val_loss: 0.6810 - val_categorical_accuracy: 0.6389\n",
            "Epoch 13/100\n",
            "3/3 [==============================] - 0s 17ms/step - loss: 0.6328 - categorical_accuracy: 0.6786 - val_loss: 0.6582 - val_categorical_accuracy: 0.6389\n",
            "Epoch 14/100\n",
            "3/3 [==============================] - 0s 17ms/step - loss: 0.6096 - categorical_accuracy: 0.6786 - val_loss: 0.6375 - val_categorical_accuracy: 0.6389\n",
            "Epoch 15/100\n",
            "3/3 [==============================] - 0s 21ms/step - loss: 0.5882 - categorical_accuracy: 0.6786 - val_loss: 0.6166 - val_categorical_accuracy: 0.6667\n",
            "Epoch 16/100\n",
            "3/3 [==============================] - 0s 16ms/step - loss: 0.5693 - categorical_accuracy: 0.7143 - val_loss: 0.6002 - val_categorical_accuracy: 0.6667\n",
            "Epoch 17/100\n",
            "3/3 [==============================] - 0s 17ms/step - loss: 0.5543 - categorical_accuracy: 0.7262 - val_loss: 0.5888 - val_categorical_accuracy: 0.6389\n",
            "Epoch 18/100\n",
            "3/3 [==============================] - 0s 17ms/step - loss: 0.5365 - categorical_accuracy: 0.6786 - val_loss: 0.5716 - val_categorical_accuracy: 0.6667\n",
            "Epoch 19/100\n",
            "3/3 [==============================] - 0s 17ms/step - loss: 0.5239 - categorical_accuracy: 0.6905 - val_loss: 0.5538 - val_categorical_accuracy: 0.6667\n",
            "Epoch 20/100\n",
            "3/3 [==============================] - 0s 18ms/step - loss: 0.5080 - categorical_accuracy: 0.7619 - val_loss: 0.5417 - val_categorical_accuracy: 0.6667\n",
            "Epoch 21/100\n",
            "3/3 [==============================] - 0s 17ms/step - loss: 0.4945 - categorical_accuracy: 0.7500 - val_loss: 0.5315 - val_categorical_accuracy: 0.6667\n",
            "Epoch 22/100\n",
            "3/3 [==============================] - 0s 18ms/step - loss: 0.4891 - categorical_accuracy: 0.7619 - val_loss: 0.5198 - val_categorical_accuracy: 0.6667\n",
            "Epoch 23/100\n",
            "3/3 [==============================] - 0s 17ms/step - loss: 0.4716 - categorical_accuracy: 0.7381 - val_loss: 0.5084 - val_categorical_accuracy: 0.6667\n",
            "Epoch 24/100\n",
            "3/3 [==============================] - 0s 16ms/step - loss: 0.4612 - categorical_accuracy: 0.7619 - val_loss: 0.4958 - val_categorical_accuracy: 0.7222\n",
            "Epoch 25/100\n",
            "3/3 [==============================] - 0s 20ms/step - loss: 0.4523 - categorical_accuracy: 0.7857 - val_loss: 0.4832 - val_categorical_accuracy: 0.7778\n",
            "Epoch 26/100\n",
            "3/3 [==============================] - 0s 17ms/step - loss: 0.4410 - categorical_accuracy: 0.8929 - val_loss: 0.4772 - val_categorical_accuracy: 0.7222\n",
            "Epoch 27/100\n",
            "3/3 [==============================] - 0s 16ms/step - loss: 0.4317 - categorical_accuracy: 0.7857 - val_loss: 0.4629 - val_categorical_accuracy: 0.8333\n",
            "Epoch 28/100\n",
            "3/3 [==============================] - 0s 16ms/step - loss: 0.4248 - categorical_accuracy: 0.8810 - val_loss: 0.4554 - val_categorical_accuracy: 0.7778\n",
            "Epoch 29/100\n",
            "3/3 [==============================] - 0s 18ms/step - loss: 0.4136 - categorical_accuracy: 0.8452 - val_loss: 0.4430 - val_categorical_accuracy: 0.8889\n",
            "Epoch 30/100\n",
            "3/3 [==============================] - 0s 18ms/step - loss: 0.4068 - categorical_accuracy: 0.8690 - val_loss: 0.4334 - val_categorical_accuracy: 0.9167\n",
            "Epoch 31/100\n",
            "3/3 [==============================] - 0s 15ms/step - loss: 0.4015 - categorical_accuracy: 0.9048 - val_loss: 0.4250 - val_categorical_accuracy: 0.9167\n",
            "Epoch 32/100\n",
            "3/3 [==============================] - 0s 16ms/step - loss: 0.3897 - categorical_accuracy: 0.9048 - val_loss: 0.4168 - val_categorical_accuracy: 0.9167\n",
            "Epoch 33/100\n",
            "3/3 [==============================] - 0s 16ms/step - loss: 0.3820 - categorical_accuracy: 0.9048 - val_loss: 0.4148 - val_categorical_accuracy: 0.8333\n",
            "Epoch 34/100\n",
            "3/3 [==============================] - 0s 16ms/step - loss: 0.3766 - categorical_accuracy: 0.9048 - val_loss: 0.4090 - val_categorical_accuracy: 0.7778\n",
            "Epoch 35/100\n",
            "3/3 [==============================] - 0s 15ms/step - loss: 0.3728 - categorical_accuracy: 0.8571 - val_loss: 0.3936 - val_categorical_accuracy: 0.9167\n",
            "Epoch 36/100\n",
            "3/3 [==============================] - 0s 16ms/step - loss: 0.3607 - categorical_accuracy: 0.9167 - val_loss: 0.3882 - val_categorical_accuracy: 0.8889\n",
            "Epoch 37/100\n",
            "3/3 [==============================] - 0s 16ms/step - loss: 0.3628 - categorical_accuracy: 0.8929 - val_loss: 0.3799 - val_categorical_accuracy: 0.9167\n",
            "Epoch 38/100\n",
            "3/3 [==============================] - 0s 16ms/step - loss: 0.3479 - categorical_accuracy: 0.9048 - val_loss: 0.3731 - val_categorical_accuracy: 0.9167\n",
            "Epoch 39/100\n",
            "3/3 [==============================] - 0s 19ms/step - loss: 0.3449 - categorical_accuracy: 0.9286 - val_loss: 0.3662 - val_categorical_accuracy: 0.9167\n",
            "Epoch 40/100\n",
            "3/3 [==============================] - 0s 20ms/step - loss: 0.3353 - categorical_accuracy: 0.9048 - val_loss: 0.3596 - val_categorical_accuracy: 0.9167\n",
            "Epoch 41/100\n",
            "3/3 [==============================] - 0s 22ms/step - loss: 0.3297 - categorical_accuracy: 0.9286 - val_loss: 0.3571 - val_categorical_accuracy: 0.8889\n",
            "Epoch 42/100\n",
            "3/3 [==============================] - 0s 17ms/step - loss: 0.3300 - categorical_accuracy: 0.9048 - val_loss: 0.3451 - val_categorical_accuracy: 0.9722\n",
            "Epoch 43/100\n",
            "3/3 [==============================] - 0s 17ms/step - loss: 0.3228 - categorical_accuracy: 0.9286 - val_loss: 0.3418 - val_categorical_accuracy: 0.9167\n",
            "Epoch 44/100\n",
            "3/3 [==============================] - 0s 15ms/step - loss: 0.3185 - categorical_accuracy: 0.8929 - val_loss: 0.3334 - val_categorical_accuracy: 0.9722\n",
            "Epoch 45/100\n",
            "3/3 [==============================] - 0s 16ms/step - loss: 0.3070 - categorical_accuracy: 0.9286 - val_loss: 0.3288 - val_categorical_accuracy: 0.9167\n",
            "Epoch 46/100\n",
            "3/3 [==============================] - 0s 17ms/step - loss: 0.3029 - categorical_accuracy: 0.9286 - val_loss: 0.3232 - val_categorical_accuracy: 0.9167\n",
            "Epoch 47/100\n",
            "3/3 [==============================] - 0s 18ms/step - loss: 0.2972 - categorical_accuracy: 0.9286 - val_loss: 0.3211 - val_categorical_accuracy: 0.9167\n",
            "Epoch 48/100\n",
            "3/3 [==============================] - 0s 19ms/step - loss: 0.3001 - categorical_accuracy: 0.9167 - val_loss: 0.3220 - val_categorical_accuracy: 0.8889\n",
            "Epoch 49/100\n",
            "3/3 [==============================] - 0s 17ms/step - loss: 0.2909 - categorical_accuracy: 0.9048 - val_loss: 0.3057 - val_categorical_accuracy: 0.9722\n",
            "Epoch 50/100\n",
            "3/3 [==============================] - 0s 18ms/step - loss: 0.2873 - categorical_accuracy: 0.9048 - val_loss: 0.3014 - val_categorical_accuracy: 0.9722\n",
            "Epoch 51/100\n",
            "3/3 [==============================] - 0s 16ms/step - loss: 0.2814 - categorical_accuracy: 0.9405 - val_loss: 0.2962 - val_categorical_accuracy: 0.9722\n",
            "Epoch 52/100\n",
            "3/3 [==============================] - 0s 18ms/step - loss: 0.2777 - categorical_accuracy: 0.9286 - val_loss: 0.2929 - val_categorical_accuracy: 0.9722\n",
            "Epoch 53/100\n",
            "3/3 [==============================] - 0s 15ms/step - loss: 0.2710 - categorical_accuracy: 0.9643 - val_loss: 0.2897 - val_categorical_accuracy: 0.9444\n",
            "Epoch 54/100\n",
            "3/3 [==============================] - 0s 17ms/step - loss: 0.2659 - categorical_accuracy: 0.9167 - val_loss: 0.2841 - val_categorical_accuracy: 0.9722\n",
            "Epoch 55/100\n",
            "3/3 [==============================] - 0s 16ms/step - loss: 0.2613 - categorical_accuracy: 0.9167 - val_loss: 0.2781 - val_categorical_accuracy: 0.9722\n",
            "Epoch 56/100\n",
            "3/3 [==============================] - 0s 16ms/step - loss: 0.2605 - categorical_accuracy: 0.9167 - val_loss: 0.2822 - val_categorical_accuracy: 0.9167\n",
            "Epoch 57/100\n",
            "3/3 [==============================] - 0s 16ms/step - loss: 0.2561 - categorical_accuracy: 0.9048 - val_loss: 0.2679 - val_categorical_accuracy: 1.0000\n",
            "Epoch 58/100\n",
            "3/3 [==============================] - 0s 16ms/step - loss: 0.2518 - categorical_accuracy: 0.9286 - val_loss: 0.2634 - val_categorical_accuracy: 0.9722\n",
            "Epoch 59/100\n",
            "3/3 [==============================] - 0s 16ms/step - loss: 0.2459 - categorical_accuracy: 0.9405 - val_loss: 0.2586 - val_categorical_accuracy: 0.9722\n",
            "Epoch 60/100\n",
            "3/3 [==============================] - 0s 17ms/step - loss: 0.2412 - categorical_accuracy: 0.9405 - val_loss: 0.2612 - val_categorical_accuracy: 0.9167\n",
            "Epoch 61/100\n",
            "3/3 [==============================] - 0s 15ms/step - loss: 0.2441 - categorical_accuracy: 0.9286 - val_loss: 0.2501 - val_categorical_accuracy: 0.9722\n",
            "Epoch 62/100\n",
            "3/3 [==============================] - 0s 25ms/step - loss: 0.2458 - categorical_accuracy: 0.9167 - val_loss: 0.2483 - val_categorical_accuracy: 0.9444\n",
            "Epoch 63/100\n",
            "3/3 [==============================] - 0s 15ms/step - loss: 0.2339 - categorical_accuracy: 0.9524 - val_loss: 0.2437 - val_categorical_accuracy: 0.9722\n",
            "Epoch 64/100\n",
            "3/3 [==============================] - 0s 17ms/step - loss: 0.2294 - categorical_accuracy: 0.9643 - val_loss: 0.2409 - val_categorical_accuracy: 0.9722\n",
            "Epoch 65/100\n",
            "3/3 [==============================] - 0s 19ms/step - loss: 0.2237 - categorical_accuracy: 0.9405 - val_loss: 0.2365 - val_categorical_accuracy: 1.0000\n",
            "Epoch 66/100\n",
            "3/3 [==============================] - 0s 16ms/step - loss: 0.2206 - categorical_accuracy: 0.9524 - val_loss: 0.2333 - val_categorical_accuracy: 0.9722\n",
            "Epoch 67/100\n",
            "3/3 [==============================] - 0s 17ms/step - loss: 0.2167 - categorical_accuracy: 0.9405 - val_loss: 0.2281 - val_categorical_accuracy: 0.9722\n",
            "Epoch 68/100\n",
            "3/3 [==============================] - 0s 16ms/step - loss: 0.2233 - categorical_accuracy: 0.9167 - val_loss: 0.2319 - val_categorical_accuracy: 0.9444\n",
            "Epoch 69/100\n",
            "3/3 [==============================] - 0s 16ms/step - loss: 0.2191 - categorical_accuracy: 0.9405 - val_loss: 0.2237 - val_categorical_accuracy: 0.9444\n",
            "Epoch 70/100\n",
            "3/3 [==============================] - 0s 21ms/step - loss: 0.2152 - categorical_accuracy: 0.9643 - val_loss: 0.2206 - val_categorical_accuracy: 0.9722\n",
            "Epoch 71/100\n",
            "3/3 [==============================] - 0s 17ms/step - loss: 0.2106 - categorical_accuracy: 0.9405 - val_loss: 0.2229 - val_categorical_accuracy: 0.9722\n",
            "Epoch 72/100\n",
            "3/3 [==============================] - 0s 18ms/step - loss: 0.2057 - categorical_accuracy: 0.9286 - val_loss: 0.2127 - val_categorical_accuracy: 0.9722\n",
            "Epoch 73/100\n",
            "3/3 [==============================] - 0s 18ms/step - loss: 0.2016 - categorical_accuracy: 0.9524 - val_loss: 0.2118 - val_categorical_accuracy: 0.9722\n",
            "Epoch 74/100\n",
            "3/3 [==============================] - 0s 15ms/step - loss: 0.1984 - categorical_accuracy: 0.9524 - val_loss: 0.2063 - val_categorical_accuracy: 0.9722\n",
            "Epoch 75/100\n",
            "3/3 [==============================] - 0s 18ms/step - loss: 0.2000 - categorical_accuracy: 0.9524 - val_loss: 0.2055 - val_categorical_accuracy: 0.9722\n",
            "Epoch 76/100\n",
            "3/3 [==============================] - 0s 17ms/step - loss: 0.1931 - categorical_accuracy: 0.9405 - val_loss: 0.2013 - val_categorical_accuracy: 0.9722\n",
            "Epoch 77/100\n",
            "3/3 [==============================] - 0s 17ms/step - loss: 0.1909 - categorical_accuracy: 0.9524 - val_loss: 0.1975 - val_categorical_accuracy: 1.0000\n",
            "Epoch 78/100\n",
            "3/3 [==============================] - 0s 16ms/step - loss: 0.1870 - categorical_accuracy: 0.9524 - val_loss: 0.1934 - val_categorical_accuracy: 0.9722\n",
            "Epoch 79/100\n",
            "3/3 [==============================] - 0s 16ms/step - loss: 0.1862 - categorical_accuracy: 0.9524 - val_loss: 0.2010 - val_categorical_accuracy: 0.9444\n",
            "Epoch 80/100\n",
            "3/3 [==============================] - 0s 16ms/step - loss: 0.1940 - categorical_accuracy: 0.9048 - val_loss: 0.1878 - val_categorical_accuracy: 0.9722\n",
            "Epoch 81/100\n",
            "3/3 [==============================] - 0s 17ms/step - loss: 0.1862 - categorical_accuracy: 0.9286 - val_loss: 0.1854 - val_categorical_accuracy: 0.9722\n",
            "Epoch 82/100\n",
            "3/3 [==============================] - 0s 17ms/step - loss: 0.1806 - categorical_accuracy: 0.9405 - val_loss: 0.1832 - val_categorical_accuracy: 0.9722\n",
            "Epoch 83/100\n",
            "3/3 [==============================] - 0s 16ms/step - loss: 0.1767 - categorical_accuracy: 0.9524 - val_loss: 0.1808 - val_categorical_accuracy: 1.0000\n",
            "Epoch 84/100\n",
            "3/3 [==============================] - 0s 23ms/step - loss: 0.1732 - categorical_accuracy: 0.9524 - val_loss: 0.1768 - val_categorical_accuracy: 0.9722\n",
            "Epoch 85/100\n",
            "3/3 [==============================] - 0s 17ms/step - loss: 0.1866 - categorical_accuracy: 0.9048 - val_loss: 0.1751 - val_categorical_accuracy: 1.0000\n",
            "Epoch 86/100\n",
            "3/3 [==============================] - 0s 17ms/step - loss: 0.1726 - categorical_accuracy: 0.9524 - val_loss: 0.1770 - val_categorical_accuracy: 0.9722\n",
            "Epoch 87/100\n",
            "3/3 [==============================] - 0s 17ms/step - loss: 0.1765 - categorical_accuracy: 0.9286 - val_loss: 0.1708 - val_categorical_accuracy: 0.9722\n",
            "Epoch 88/100\n",
            "3/3 [==============================] - 0s 16ms/step - loss: 0.1678 - categorical_accuracy: 0.9405 - val_loss: 0.1707 - val_categorical_accuracy: 0.9722\n",
            "Epoch 89/100\n",
            "3/3 [==============================] - 0s 16ms/step - loss: 0.1643 - categorical_accuracy: 0.9643 - val_loss: 0.1659 - val_categorical_accuracy: 0.9722\n",
            "Epoch 90/100\n",
            "3/3 [==============================] - 0s 16ms/step - loss: 0.1652 - categorical_accuracy: 0.9524 - val_loss: 0.1670 - val_categorical_accuracy: 0.9722\n",
            "Epoch 91/100\n",
            "3/3 [==============================] - 0s 18ms/step - loss: 0.1638 - categorical_accuracy: 0.9524 - val_loss: 0.1629 - val_categorical_accuracy: 0.9722\n",
            "Epoch 92/100\n",
            "3/3 [==============================] - 0s 17ms/step - loss: 0.1637 - categorical_accuracy: 0.9524 - val_loss: 0.1595 - val_categorical_accuracy: 0.9722\n",
            "Epoch 93/100\n",
            "3/3 [==============================] - 0s 28ms/step - loss: 0.1575 - categorical_accuracy: 0.9405 - val_loss: 0.1579 - val_categorical_accuracy: 1.0000\n",
            "Epoch 94/100\n",
            "3/3 [==============================] - 0s 19ms/step - loss: 0.1572 - categorical_accuracy: 0.9643 - val_loss: 0.1555 - val_categorical_accuracy: 0.9722\n",
            "Epoch 95/100\n",
            "3/3 [==============================] - 0s 20ms/step - loss: 0.1536 - categorical_accuracy: 0.9524 - val_loss: 0.1528 - val_categorical_accuracy: 0.9722\n",
            "Epoch 96/100\n",
            "3/3 [==============================] - 0s 18ms/step - loss: 0.1548 - categorical_accuracy: 0.9524 - val_loss: 0.1511 - val_categorical_accuracy: 0.9722\n",
            "Epoch 97/100\n",
            "3/3 [==============================] - 0s 16ms/step - loss: 0.1544 - categorical_accuracy: 0.9405 - val_loss: 0.1493 - val_categorical_accuracy: 0.9722\n",
            "Epoch 98/100\n",
            "3/3 [==============================] - 0s 18ms/step - loss: 0.1496 - categorical_accuracy: 0.9405 - val_loss: 0.1497 - val_categorical_accuracy: 0.9722\n",
            "Epoch 99/100\n",
            "3/3 [==============================] - 0s 17ms/step - loss: 0.1520 - categorical_accuracy: 0.9524 - val_loss: 0.1443 - val_categorical_accuracy: 0.9722\n",
            "Epoch 100/100\n",
            "3/3 [==============================] - 0s 19ms/step - loss: 0.1438 - categorical_accuracy: 0.9524 - val_loss: 0.1442 - val_categorical_accuracy: 0.9722\n"
          ]
        }
      ]
    },
    {
      "cell_type": "markdown",
      "source": [
        "**Interpretando a exibição:**\n",
        "\n",
        "Exemplo de exibição: \n",
        "```\n",
        "Epoch 100/100\n",
        "3/3 [==============================] - 0s 47ms/step - loss: 0.1451 - categorical_accuracy: 0.9524 - val_loss: 0.1456 - val_categorical_accuracy: 0.9722\n",
        "```\n",
        "- A época de treinamento: *`Epoch 100/100`*\n",
        "- Quantidade de **instâncias processadas**: *`3/3`*\n",
        "  * Aqui, temos a quantidade de amostras divididas pela número de [batch_size](https://www.deeplearningbook.com.br/o-efeito-do-batch-size-no-treinamento-de-redes-neurais-artificiais/). Normalmente a batch é definida com 32 no keras, temos 84 amostras (70% do conjunto de treino) no treinamento, resultando assim em aproximadamente 3 instâncias.\n",
        "- A barra de progresso: *`[==============================]`*\n",
        "- Tempo de treinamento de cada amostra: *`0s 13ms/step`*\n",
        "- Perda e acurária no conjunto de treinamento: *`loss: 0.1506 - categorical_accuracy: 0.9524`*\n",
        "- Perda e acurária no conjunto de validação: *`val_loss: 0.1494 - val_categorical_accuracy: 0.9722`*"
      ],
      "metadata": {
        "id": "5YUF_A1qxWbn"
      }
    },
    {
      "cell_type": "markdown",
      "source": [
        "### Avaliação"
      ],
      "metadata": {
        "id": "Xo_FaGu90YOt"
      }
    },
    {
      "cell_type": "markdown",
      "source": [
        "#### Aprendizado\n",
        "\n",
        "Podemos avaliar o desempenho do nosso modelo durante o treinamento com os dados de `historico` através do método `history` e plotar o processo de aprendizado"
      ],
      "metadata": {
        "id": "dUAsjXu28U0T"
      }
    },
    {
      "cell_type": "code",
      "source": [
        "historico.history"
      ],
      "metadata": {
        "id": "J0l8on0-70WN",
        "colab": {
          "base_uri": "https://localhost:8080/"
        },
        "outputId": "877e9aeb-ddd7-41e3-effa-3d3c18ce7a32"
      },
      "execution_count": null,
      "outputs": [
        {
          "output_type": "execute_result",
          "data": {
            "text/plain": [
              "{'loss': [1.0794049501419067,\n",
              "  0.9975329041481018,\n",
              "  0.9460538029670715,\n",
              "  0.9042622447013855,\n",
              "  0.8645491600036621,\n",
              "  0.8292926549911499,\n",
              "  0.7963284850120544,\n",
              "  0.7651675343513489,\n",
              "  0.7351924180984497,\n",
              "  0.7062868475914001,\n",
              "  0.6803746223449707,\n",
              "  0.6558703184127808,\n",
              "  0.6328219771385193,\n",
              "  0.6096018552780151,\n",
              "  0.5881768465042114,\n",
              "  0.5692594647407532,\n",
              "  0.5543277859687805,\n",
              "  0.5365155339241028,\n",
              "  0.5238825082778931,\n",
              "  0.5079993009567261,\n",
              "  0.49451300501823425,\n",
              "  0.48913905024528503,\n",
              "  0.47164657711982727,\n",
              "  0.4612211585044861,\n",
              "  0.4523090124130249,\n",
              "  0.440999299287796,\n",
              "  0.43173709511756897,\n",
              "  0.4247821271419525,\n",
              "  0.41357848048210144,\n",
              "  0.40681129693984985,\n",
              "  0.40152668952941895,\n",
              "  0.38966038823127747,\n",
              "  0.3820226192474365,\n",
              "  0.3765544891357422,\n",
              "  0.3728126287460327,\n",
              "  0.3607400357723236,\n",
              "  0.3628470003604889,\n",
              "  0.34792885184288025,\n",
              "  0.34492260217666626,\n",
              "  0.33525294065475464,\n",
              "  0.32969021797180176,\n",
              "  0.3299933969974518,\n",
              "  0.3227868378162384,\n",
              "  0.3184942305088043,\n",
              "  0.3069894015789032,\n",
              "  0.3029480576515198,\n",
              "  0.29724860191345215,\n",
              "  0.30006274580955505,\n",
              "  0.29086679220199585,\n",
              "  0.2873426675796509,\n",
              "  0.28144264221191406,\n",
              "  0.2777116298675537,\n",
              "  0.27102819085121155,\n",
              "  0.26592516899108887,\n",
              "  0.2613435387611389,\n",
              "  0.2605089545249939,\n",
              "  0.2561360001564026,\n",
              "  0.2517825663089752,\n",
              "  0.24585659801959991,\n",
              "  0.241224467754364,\n",
              "  0.24412623047828674,\n",
              "  0.24576477706432343,\n",
              "  0.23394262790679932,\n",
              "  0.22939084470272064,\n",
              "  0.22367236018180847,\n",
              "  0.22059662640094757,\n",
              "  0.2166731208562851,\n",
              "  0.22328004240989685,\n",
              "  0.2191326916217804,\n",
              "  0.21515750885009766,\n",
              "  0.21058082580566406,\n",
              "  0.2057262808084488,\n",
              "  0.20161226391792297,\n",
              "  0.19844815135002136,\n",
              "  0.19996005296707153,\n",
              "  0.1931150108575821,\n",
              "  0.19094562530517578,\n",
              "  0.18696577847003937,\n",
              "  0.1862490326166153,\n",
              "  0.1939575970172882,\n",
              "  0.186210498213768,\n",
              "  0.1805594116449356,\n",
              "  0.1767101287841797,\n",
              "  0.17322123050689697,\n",
              "  0.18656107783317566,\n",
              "  0.17258703708648682,\n",
              "  0.17645756900310516,\n",
              "  0.1677844226360321,\n",
              "  0.16427195072174072,\n",
              "  0.16517646610736847,\n",
              "  0.1638084352016449,\n",
              "  0.16372498869895935,\n",
              "  0.1575290709733963,\n",
              "  0.1572076827287674,\n",
              "  0.1536010205745697,\n",
              "  0.15478315949440002,\n",
              "  0.1544182002544403,\n",
              "  0.1496351808309555,\n",
              "  0.15202488005161285,\n",
              "  0.14382041990756989],\n",
              " 'categorical_accuracy': [0.5357142686843872,\n",
              "  0.6785714030265808,\n",
              "  0.6785714030265808,\n",
              "  0.6785714030265808,\n",
              "  0.6785714030265808,\n",
              "  0.6785714030265808,\n",
              "  0.6785714030265808,\n",
              "  0.6785714030265808,\n",
              "  0.6785714030265808,\n",
              "  0.6785714030265808,\n",
              "  0.6785714030265808,\n",
              "  0.6785714030265808,\n",
              "  0.6785714030265808,\n",
              "  0.6785714030265808,\n",
              "  0.6785714030265808,\n",
              "  0.7142857313156128,\n",
              "  0.726190447807312,\n",
              "  0.6785714030265808,\n",
              "  0.6904761791229248,\n",
              "  0.761904776096344,\n",
              "  0.75,\n",
              "  0.761904776096344,\n",
              "  0.738095223903656,\n",
              "  0.761904776096344,\n",
              "  0.7857142686843872,\n",
              "  0.8928571343421936,\n",
              "  0.7857142686843872,\n",
              "  0.8809523582458496,\n",
              "  0.8452380895614624,\n",
              "  0.8690476417541504,\n",
              "  0.9047619104385376,\n",
              "  0.9047619104385376,\n",
              "  0.9047619104385376,\n",
              "  0.9047619104385376,\n",
              "  0.8571428656578064,\n",
              "  0.9166666865348816,\n",
              "  0.8928571343421936,\n",
              "  0.9047619104385376,\n",
              "  0.9285714030265808,\n",
              "  0.9047619104385376,\n",
              "  0.9285714030265808,\n",
              "  0.9047619104385376,\n",
              "  0.9285714030265808,\n",
              "  0.8928571343421936,\n",
              "  0.9285714030265808,\n",
              "  0.9285714030265808,\n",
              "  0.9285714030265808,\n",
              "  0.9166666865348816,\n",
              "  0.9047619104385376,\n",
              "  0.9047619104385376,\n",
              "  0.9404761791229248,\n",
              "  0.9285714030265808,\n",
              "  0.9642857313156128,\n",
              "  0.9166666865348816,\n",
              "  0.9166666865348816,\n",
              "  0.9166666865348816,\n",
              "  0.9047619104385376,\n",
              "  0.9285714030265808,\n",
              "  0.9404761791229248,\n",
              "  0.9404761791229248,\n",
              "  0.9285714030265808,\n",
              "  0.9166666865348816,\n",
              "  0.9523809552192688,\n",
              "  0.9642857313156128,\n",
              "  0.9404761791229248,\n",
              "  0.9523809552192688,\n",
              "  0.9404761791229248,\n",
              "  0.9166666865348816,\n",
              "  0.9404761791229248,\n",
              "  0.9642857313156128,\n",
              "  0.9404761791229248,\n",
              "  0.9285714030265808,\n",
              "  0.9523809552192688,\n",
              "  0.9523809552192688,\n",
              "  0.9523809552192688,\n",
              "  0.9404761791229248,\n",
              "  0.9523809552192688,\n",
              "  0.9523809552192688,\n",
              "  0.9523809552192688,\n",
              "  0.9047619104385376,\n",
              "  0.9285714030265808,\n",
              "  0.9404761791229248,\n",
              "  0.9523809552192688,\n",
              "  0.9523809552192688,\n",
              "  0.9047619104385376,\n",
              "  0.9523809552192688,\n",
              "  0.9285714030265808,\n",
              "  0.9404761791229248,\n",
              "  0.9642857313156128,\n",
              "  0.9523809552192688,\n",
              "  0.9523809552192688,\n",
              "  0.9523809552192688,\n",
              "  0.9404761791229248,\n",
              "  0.9642857313156128,\n",
              "  0.9523809552192688,\n",
              "  0.9523809552192688,\n",
              "  0.9404761791229248,\n",
              "  0.9404761791229248,\n",
              "  0.9523809552192688,\n",
              "  0.9523809552192688],\n",
              " 'val_loss': [1.0252164602279663,\n",
              "  0.975356936454773,\n",
              "  0.9336174726486206,\n",
              "  0.9007998704910278,\n",
              "  0.8660576343536377,\n",
              "  0.8361597061157227,\n",
              "  0.8045974373817444,\n",
              "  0.7789607644081116,\n",
              "  0.7511286735534668,\n",
              "  0.7263759970664978,\n",
              "  0.7040945887565613,\n",
              "  0.6809847354888916,\n",
              "  0.6582214832305908,\n",
              "  0.6374564170837402,\n",
              "  0.6166244149208069,\n",
              "  0.6002364158630371,\n",
              "  0.5888454914093018,\n",
              "  0.5715826749801636,\n",
              "  0.5537583231925964,\n",
              "  0.5416859984397888,\n",
              "  0.5314778089523315,\n",
              "  0.5197779536247253,\n",
              "  0.5083777904510498,\n",
              "  0.495849072933197,\n",
              "  0.48323556780815125,\n",
              "  0.47722530364990234,\n",
              "  0.46291959285736084,\n",
              "  0.45544514060020447,\n",
              "  0.44302311539649963,\n",
              "  0.4333912432193756,\n",
              "  0.42496442794799805,\n",
              "  0.41681259870529175,\n",
              "  0.4147511124610901,\n",
              "  0.4090482294559479,\n",
              "  0.39355409145355225,\n",
              "  0.38822782039642334,\n",
              "  0.3799196183681488,\n",
              "  0.3731328248977661,\n",
              "  0.3662208914756775,\n",
              "  0.3596486449241638,\n",
              "  0.3570817708969116,\n",
              "  0.34507811069488525,\n",
              "  0.3418019115924835,\n",
              "  0.3334406018257141,\n",
              "  0.3288283944129944,\n",
              "  0.32321250438690186,\n",
              "  0.32106512784957886,\n",
              "  0.32198044657707214,\n",
              "  0.30571162700653076,\n",
              "  0.30138471722602844,\n",
              "  0.2962445020675659,\n",
              "  0.29293525218963623,\n",
              "  0.2897416949272156,\n",
              "  0.28408128023147583,\n",
              "  0.2780945599079132,\n",
              "  0.2822151482105255,\n",
              "  0.2679334282875061,\n",
              "  0.263413667678833,\n",
              "  0.25855106115341187,\n",
              "  0.26116231083869934,\n",
              "  0.2500808537006378,\n",
              "  0.24831213057041168,\n",
              "  0.24372754991054535,\n",
              "  0.24087683856487274,\n",
              "  0.23650754988193512,\n",
              "  0.2333313375711441,\n",
              "  0.22813548147678375,\n",
              "  0.2318500131368637,\n",
              "  0.22373993694782257,\n",
              "  0.2205682247877121,\n",
              "  0.22292740643024445,\n",
              "  0.21265465021133423,\n",
              "  0.21181674301624298,\n",
              "  0.2062559872865677,\n",
              "  0.20550522208213806,\n",
              "  0.20131038129329681,\n",
              "  0.19753959774971008,\n",
              "  0.193409264087677,\n",
              "  0.20097289979457855,\n",
              "  0.1877729892730713,\n",
              "  0.18536441028118134,\n",
              "  0.18322725594043732,\n",
              "  0.18080919981002808,\n",
              "  0.17679506540298462,\n",
              "  0.17510050535202026,\n",
              "  0.17695361375808716,\n",
              "  0.1707897037267685,\n",
              "  0.17071714997291565,\n",
              "  0.16594243049621582,\n",
              "  0.16704750061035156,\n",
              "  0.16291342675685883,\n",
              "  0.15952493250370026,\n",
              "  0.15794497728347778,\n",
              "  0.15547291934490204,\n",
              "  0.1528390496969223,\n",
              "  0.15113846957683563,\n",
              "  0.1493355631828308,\n",
              "  0.149746835231781,\n",
              "  0.14430616796016693,\n",
              "  0.14423581957817078],\n",
              " 'val_categorical_accuracy': [0.6388888955116272,\n",
              "  0.6388888955116272,\n",
              "  0.6388888955116272,\n",
              "  0.6388888955116272,\n",
              "  0.6388888955116272,\n",
              "  0.6388888955116272,\n",
              "  0.6388888955116272,\n",
              "  0.6388888955116272,\n",
              "  0.6388888955116272,\n",
              "  0.6388888955116272,\n",
              "  0.6388888955116272,\n",
              "  0.6388888955116272,\n",
              "  0.6388888955116272,\n",
              "  0.6388888955116272,\n",
              "  0.6666666865348816,\n",
              "  0.6666666865348816,\n",
              "  0.6388888955116272,\n",
              "  0.6666666865348816,\n",
              "  0.6666666865348816,\n",
              "  0.6666666865348816,\n",
              "  0.6666666865348816,\n",
              "  0.6666666865348816,\n",
              "  0.6666666865348816,\n",
              "  0.7222222089767456,\n",
              "  0.7777777910232544,\n",
              "  0.7222222089767456,\n",
              "  0.8333333134651184,\n",
              "  0.7777777910232544,\n",
              "  0.8888888955116272,\n",
              "  0.9166666865348816,\n",
              "  0.9166666865348816,\n",
              "  0.9166666865348816,\n",
              "  0.8333333134651184,\n",
              "  0.7777777910232544,\n",
              "  0.9166666865348816,\n",
              "  0.8888888955116272,\n",
              "  0.9166666865348816,\n",
              "  0.9166666865348816,\n",
              "  0.9166666865348816,\n",
              "  0.9166666865348816,\n",
              "  0.8888888955116272,\n",
              "  0.9722222089767456,\n",
              "  0.9166666865348816,\n",
              "  0.9722222089767456,\n",
              "  0.9166666865348816,\n",
              "  0.9166666865348816,\n",
              "  0.9166666865348816,\n",
              "  0.8888888955116272,\n",
              "  0.9722222089767456,\n",
              "  0.9722222089767456,\n",
              "  0.9722222089767456,\n",
              "  0.9722222089767456,\n",
              "  0.9444444179534912,\n",
              "  0.9722222089767456,\n",
              "  0.9722222089767456,\n",
              "  0.9166666865348816,\n",
              "  1.0,\n",
              "  0.9722222089767456,\n",
              "  0.9722222089767456,\n",
              "  0.9166666865348816,\n",
              "  0.9722222089767456,\n",
              "  0.9444444179534912,\n",
              "  0.9722222089767456,\n",
              "  0.9722222089767456,\n",
              "  1.0,\n",
              "  0.9722222089767456,\n",
              "  0.9722222089767456,\n",
              "  0.9444444179534912,\n",
              "  0.9444444179534912,\n",
              "  0.9722222089767456,\n",
              "  0.9722222089767456,\n",
              "  0.9722222089767456,\n",
              "  0.9722222089767456,\n",
              "  0.9722222089767456,\n",
              "  0.9722222089767456,\n",
              "  0.9722222089767456,\n",
              "  1.0,\n",
              "  0.9722222089767456,\n",
              "  0.9444444179534912,\n",
              "  0.9722222089767456,\n",
              "  0.9722222089767456,\n",
              "  0.9722222089767456,\n",
              "  1.0,\n",
              "  0.9722222089767456,\n",
              "  1.0,\n",
              "  0.9722222089767456,\n",
              "  0.9722222089767456,\n",
              "  0.9722222089767456,\n",
              "  0.9722222089767456,\n",
              "  0.9722222089767456,\n",
              "  0.9722222089767456,\n",
              "  0.9722222089767456,\n",
              "  1.0,\n",
              "  0.9722222089767456,\n",
              "  0.9722222089767456,\n",
              "  0.9722222089767456,\n",
              "  0.9722222089767456,\n",
              "  0.9722222089767456,\n",
              "  0.9722222089767456,\n",
              "  0.9722222089767456]}"
            ]
          },
          "metadata": {},
          "execution_count": 27
        }
      ]
    },
    {
      "cell_type": "code",
      "source": [
        "import pandas as pd\n",
        "\n",
        "pd.DataFrame(historico.history).plot()\n",
        "plt.grid()\n",
        "plt.show()"
      ],
      "metadata": {
        "id": "H9tBqsgK71W9",
        "colab": {
          "base_uri": "https://localhost:8080/",
          "height": 265
        },
        "outputId": "18f57270-32ed-4fb5-c07c-8cd7598be30f"
      },
      "execution_count": null,
      "outputs": [
        {
          "output_type": "display_data",
          "data": {
            "text/plain": [
              "<Figure size 432x288 with 1 Axes>"
            ],
            "image/png": "[encoded data removed]"
          },
          "metadata": {
            "needs_background": "light"
          }
        }
      ]
    },
    {
      "cell_type": "markdown",
      "source": [
        "Para observar mais de perto o aprendizado do modelo podemos plotar curvas individuais e perceber como no aprendizado, ambos os conjuntos obtiveram resultados similares. Isso nos garante que não ocorreu sobreajuste no treinamento.\n",
        "\n",
        "A constancia das curvas é diferente pois os valores de erro  da validação é calculada por época e para o treinamento é feito uma média dos valores de erro durante as iterações de cada época."
      ],
      "metadata": {
        "id": "nTSMv08X3own"
      }
    },
    {
      "cell_type": "code",
      "source": [
        "fig, ax = plt.subplots(1,2, figsize=(14,5))\n",
        "ax[0].plot(historico.history['loss'], color='#111487', linewidth=3, label=\"Perda de treinamento\")\n",
        "ax[0].plot(historico.history['val_loss'], color='#EFA316', linewidth=3, label=\"Perda da validação\",axes =ax[0])\n",
        "legend = ax[0].legend(loc='best', shadow=True)\n",
        "\n",
        "ax[1].plot(historico.history['categorical_accuracy'], color='#111487', linewidth=3, label=\"Acurácia de treinamento\")\n",
        "ax[1].plot(historico.history['val_categorical_accuracy'], color='#EFA316', linewidth=3, label=\"Acurácia de validação\")\n",
        "legend = ax[1].legend(loc='best', shadow=True)\n",
        "\n",
        "plt.suptitle('Desempenho do treinamento', fontsize = 18)\n",
        "plt.show()"
      ],
      "metadata": {
        "colab": {
          "base_uri": "https://localhost:8080/",
          "height": 356
        },
        "id": "sUZHIM57E52K",
        "outputId": "d6cc53f6-c19e-4dec-e566-518861aa2b58"
      },
      "execution_count": null,
      "outputs": [
        {
          "output_type": "display_data",
          "data": {
            "text/plain": [
              "<Figure size 1008x360 with 2 Axes>"
            ],
            "image/png": "[encoded data removed]"
          },
          "metadata": {
            "needs_background": "light"
          }
        }
      ]
    },
    {
      "cell_type": "markdown",
      "source": [
        "#### Teste\n",
        "\n",
        "Podemos testar o modelo e verificar seu resultado final através do método [`evaluate`](https://keras.io/api/models/model_training_apis/#:~:text=%5Bsource%5D-,evaluate%20method,-Model.evaluate) que nos mostra a perda e acurácia obtida no conjunto de teste."
      ],
      "metadata": {
        "id": "i4_zjfM_Lo2Z"
      }
    },
    {
      "cell_type": "code",
      "source": [
        "modelo.evaluate(x_teste,y_teste)"
      ],
      "metadata": {
        "id": "BpSOVDs777cl",
        "colab": {
          "base_uri": "https://localhost:8080/"
        },
        "outputId": "c7f880b4-8075-4aa2-c62f-30cc83b05998"
      },
      "execution_count": null,
      "outputs": [
        {
          "output_type": "stream",
          "name": "stdout",
          "text": [
            "1/1 [==============================] - 0s 25ms/step - loss: 0.1515 - categorical_accuracy: 0.9333\n"
          ]
        },
        {
          "output_type": "execute_result",
          "data": {
            "text/plain": [
              "[0.15149648487567902, 0.9333333373069763]"
            ]
          },
          "metadata": {},
          "execution_count": 31
        }
      ]
    },
    {
      "cell_type": "markdown",
      "source": [
        "O método [`predict`](https://keras.io/api/models/model_training_apis/#:~:text=%5Bsource%5D-,predict%20method,-Model.predict) gera a predição do modelo para as entradas enviadas.\n",
        "\n",
        "Faremos o teste: as entradas `[[0.61, 0.5, 0.69, 0.79]]` devem resultar em uma indicação de flor Virginica - `[0., 0., 1.]`"
      ],
      "metadata": {
        "id": "S1c0zg0q9L7m"
      }
    },
    {
      "cell_type": "code",
      "source": [
        "modelo.predict([[0.61, 0.5, 0.69, 0.79]])"
      ],
      "metadata": {
        "id": "gjqnps2k78xt",
        "colab": {
          "base_uri": "https://localhost:8080/"
        },
        "outputId": "658d87f3-58a3-4eac-d182-0296d0c0c0b7"
      },
      "execution_count": null,
      "outputs": [
        {
          "output_type": "stream",
          "name": "stdout",
          "text": [
            "1/1 [==============================] - 0s 104ms/step\n"
          ]
        },
        {
          "output_type": "execute_result",
          "data": {
            "text/plain": [
              "array([[1.3103821e-05, 2.7777532e-01, 7.2221160e-01]], dtype=float32)"
            ]
          },
          "metadata": {},
          "execution_count": 32
        }
      ]
    },
    {
      "cell_type": "code",
      "source": [],
      "metadata": {
        "id": "k7j9xOVPKgB-"
      },
      "execution_count": null,
      "outputs": []
    }
  ]
}