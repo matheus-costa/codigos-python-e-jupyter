{
  "cells": [
    {
      "cell_type": "markdown",
      "metadata": {
        "id": "ztRQB-6IL8p0"
      },
      "source": [
        "# Semana Acadêmica Semana Acadêmica do Curso de Informática IFSul (SACI) 2024\n",
        "Minicurso: IA em ação: detecção de objetos com YOLO\n",
        "\n",
        "Ministrante: Prof. Sandro Camargo\n",
        "\n",
        "Para abrir no seu google colab, [clique aqui](https://colab.research.google.com/github/Sandrocamargo/courses/blob/main/2024%20SACI/Oficina_YOLOv5.ipynb)."
      ]
    },
    {
      "cell_type": "markdown",
      "source": [
        "*You only look once* (YOLO), ou Você Olha Apenas uma Vez, é o estado da arte em sistemas de detecção de objetos em tempo real. Em uma GPU Pascal Titan X são processadas imagens de 30 FPS e tem um mAP de 57.9% na base de testes COCO.\n",
        "\n",
        "O algoritmo YOLO foi treinado com a base *Common Objects in Context* (COCO) <https://cocodataset.org/>\n",
        "\n",
        "YOLO é um dos mais utilizados modelos de segmentação de imagens e detecção de objetos. O modelo YOLO foi desenvolvido por Joseph Redmon e Ali Farhadi na Universidade de Washington. Lançado em 2015, o YOLO ganhou popularidade rapidamente devido à sua velocidade e acurácia.\n",
        "\n",
        "A última versão é o YOLOv10."
      ],
      "metadata": {
        "id": "rqWiciLejKJP"
      }
    },
    {
      "cell_type": "markdown",
      "metadata": {
        "id": "7mGmQbAO5pQb"
      },
      "source": [
        "# Configuração de ambiente\n",
        "\n",
        "O primeiro passo é cloar o [repositório](https://github.com/ultralytics/yolov5) GitHub, instalar as [dependências](https://github.com/ultralytics/yolov5/blob/master/requirements.txt) e verificar o PyTorch e a GPU."
      ]
    },
    {
      "cell_type": "code",
      "execution_count": null,
      "metadata": {
        "id": "wbvMlHd_QwMG"
      },
      "outputs": [],
      "source": [
        "!git clone https://github.com/ultralytics/yolov5  # clone\n",
        "%cd yolov5\n",
        "%pip install -qr requirements.txt  # install\n",
        "\n",
        "import torch\n",
        "import utils\n",
        "display = utils.notebook_init()  # checks"
      ]
    },
    {
      "cell_type": "code",
      "execution_count": null,
      "metadata": {
        "id": "j-MS21ICP_Xu",
        "colab": {
          "base_uri": "https://localhost:8080/"
        },
        "outputId": "cc1007b8-70fa-478d-99e6-b89a5e642214"
      },
      "outputs": [
        {
          "output_type": "stream",
          "name": "stdout",
          "text": [
            "Mounted at /content/drive\n"
          ]
        }
      ],
      "source": [
        "from google.colab import drive\n",
        "drive.mount('/content/drive',force_remount=True)"
      ]
    },
    {
      "cell_type": "markdown",
      "metadata": {
        "id": "4JnkELT0cIJg"
      },
      "source": [
        "# 1. Detectar objetos\n",
        "\n",
        "`detect.py` executa a inferência YOLOv5 inferenceem várias fontes de imagens ou de vídeos, baixa os modelos automaticamente do site [latest YOLOv5 release](https://github.com/ultralytics/yolov5/releases) e armazena os resultados na pasta `runs/detect` do seu ambiente do google colab. Exemplos de fontes de inferência são:\n",
        "\n",
        "```shell\n",
        "python detect.py --source 0  # webcam\n",
        "                          img.jpg  # image\n",
        "                          vid.mp4  # video\n",
        "                          screen  # screenshot\n",
        "                          path/  # directory\n",
        "                         'path/*.jpg'  #\n",
        "```"
      ]
    },
    {
      "cell_type": "code",
      "source": [
        "# para executar sobre uma imagem que está no seu ambiente colab, informe o caminho do arquivo em source\n",
        "!python detect.py --conf 0.3 --source 'data/images/bus.jpg' --data data/coco.yaml"
      ],
      "metadata": {
        "id": "WImT8xxqU4AU"
      },
      "execution_count": null,
      "outputs": []
    },
    {
      "cell_type": "code",
      "source": [
        "# para executar sobre várias imagens que estão no seu ambiente colab, informe o caminho da pasta em source\n",
        "!python detect.py --conf 0.3 --source 'data/images/' --data data/coco.yaml"
      ],
      "metadata": {
        "id": "WbejBBo0VWGh"
      },
      "execution_count": null,
      "outputs": []
    },
    {
      "cell_type": "code",
      "source": [
        "# Para executar sobre alguma imagem que está disponível na internet, informe o link direto\n",
        "!python detect.py --conf 0.3 --source 'https://revistanews.com.br/wp-content/uploads/2022/09/Desfile-farroupilha-NH.jpg' --data data/coco.yaml"
      ],
      "metadata": {
        "id": "nM_UjjqHRuCp"
      },
      "execution_count": null,
      "outputs": []
    },
    {
      "cell_type": "code",
      "source": [
        "!python detect.py --conf 0.3 --source 'https://estado.rs.gov.br/upload/recortes/201707/19202713_1174768_GD.jpg' --data data/coco.yaml"
      ],
      "metadata": {
        "id": "p1bTJXuTTdDi"
      },
      "execution_count": null,
      "outputs": []
    },
    {
      "cell_type": "markdown",
      "source": [
        "Para executar sobre um video do youtube, faça o download do video e o armazene no seu ambiente."
      ],
      "metadata": {
        "id": "dhXwdRZXW0wC"
      }
    },
    {
      "cell_type": "code",
      "source": [
        "!pip install yt-dlp\n",
        "!yt-dlp -f best -o \"/content/video0.mp4\" \"https://www.youtube.com/watch?v=JpPP7OQQasA\""
      ],
      "metadata": {
        "id": "LPiYFmvMYtv6"
      },
      "execution_count": null,
      "outputs": []
    },
    {
      "cell_type": "code",
      "source": [
        "!python detect.py --conf 0.3 --source '/content/video0.mp4' --data data/coco.yaml"
      ],
      "metadata": {
        "id": "BAeJ0imvZG62"
      },
      "execution_count": null,
      "outputs": []
    },
    {
      "cell_type": "code",
      "source": [
        "!mv /content/yolov5/runs/detect/exp5 /content/drive/MyDrive"
      ],
      "metadata": {
        "id": "_KNQGMl6gNX9"
      },
      "execution_count": null,
      "outputs": []
    },
    {
      "cell_type": "code",
      "source": [
        "!yt-dlp -f best -o \"/content/video1.mp4\" \"https://youtu.be/z0AfpPI_ecI\""
      ],
      "metadata": {
        "id": "IpQltcsgVuOs"
      },
      "execution_count": null,
      "outputs": []
    },
    {
      "cell_type": "code",
      "source": [
        "!yt-dlp -f best -o \"/content/video2.mp4\" \"https://www.youtube.com/watch?v=AMPxKJdmnR8\""
      ],
      "metadata": {
        "id": "l_6NKD-ftp1v"
      },
      "execution_count": null,
      "outputs": []
    },
    {
      "cell_type": "code",
      "source": [
        "# Executando\n",
        "!python detect.py --conf 0.3 --source '/content/video2.mp4' --data data/coco.yaml"
      ],
      "metadata": {
        "id": "lZx384JyLSYf"
      },
      "execution_count": null,
      "outputs": []
    },
    {
      "cell_type": "code",
      "source": [],
      "metadata": {
        "id": "4t-skpDxtzLL"
      },
      "execution_count": null,
      "outputs": []
    },
    {
      "cell_type": "code",
      "source": [
        "# Executando\n",
        "!python detect.py --conf 0.3 --source '/content/video1.mp4' --data data/coco.yaml"
      ],
      "metadata": {
        "id": "EnXCfKwzuHDO"
      },
      "execution_count": null,
      "outputs": []
    },
    {
      "cell_type": "code",
      "source": [],
      "metadata": {
        "id": "7JiPGujluH1k"
      },
      "execution_count": null,
      "outputs": []
    },
    {
      "cell_type": "code",
      "source": [
        "!mv /content/yolov5/runs/detect/exp6 /content/drive/MyDrive"
      ],
      "metadata": {
        "id": "iKdB1u2HhQE8"
      },
      "execution_count": null,
      "outputs": []
    },
    {
      "cell_type": "code",
      "source": [
        "!python detect.py --conf 0.3 --source screen --data data/coco.yaml"
      ],
      "metadata": {
        "id": "Hz0dD50HT3IY"
      },
      "execution_count": null,
      "outputs": []
    },
    {
      "cell_type": "markdown",
      "metadata": {
        "id": "IEijrePND_2I"
      },
      "source": [
        "# Appendix\n",
        "\n",
        "Additional content below."
      ]
    },
    {
      "cell_type": "markdown",
      "source": [
        "# Treinando o YOLO para novos problemas\n",
        "\n",
        "Processo se inicia pela rotulagem, passa pelo retreinamento e finalmente chega à fase de uso.\n",
        "\n",
        "A rotulagem é feita através de ferramentas como o LabelImg."
      ],
      "metadata": {
        "id": "OqTXEOq_nBuZ"
      }
    }
  ],
  "metadata": {
    "colab": {
      "provenance": [],
      "gpuType": "L4"
    },
    "kernelspec": {
      "display_name": "Python 3",
      "name": "python3"
    },
    "accelerator": "GPU"
  },
  "nbformat": 4,
  "nbformat_minor": 0
}